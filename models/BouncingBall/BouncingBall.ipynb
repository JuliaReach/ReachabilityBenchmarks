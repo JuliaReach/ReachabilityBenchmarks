{
 "cells": [
  {
   "cell_type": "markdown",
   "metadata": {},
   "source": [
    "## Model description"
   ]
  },
  {
   "cell_type": "markdown",
   "metadata": {},
   "source": [
    "This model corresponds to the \"classical\" bouncing ball. It is perhaps the simplest example of a hybrid ODE, since it presents only one discrete transition. The model consists of a ball dropped from a predefined height. It hits the ground after a certain time, loses energy and then bounces back into the air and starts to fall again.\n",
    "\n",
    "This model has 2 continuous variables, 1 mode and 1 discrete jump."
   ]
  },
  {
   "cell_type": "markdown",
   "metadata": {},
   "source": [
    "The physical phenomena can be represented as the following hybrid automaton:\n",
    "\n",
    "<img src=\"BouncingBall.png\" alt=\"Drawing\" style=\"width: 300px;\"/>"
   ]
  },
  {
   "cell_type": "markdown",
   "metadata": {},
   "source": [
    "In the discrete state, the motion of the ball, assumed to have a mass of $m = 1 kg$, is governed by the following differential equation:\n",
    "\n",
    "$$\n",
    "\\begin{array} \\\\x'(t)= & v(t)\\\\ v'(t) = & -9.81 \\end{array}\n",
    "$$\n",
    "where $x$ is the ball’s height from the ground, $v$ is the ball’s vertical velocity, and $9.81ms^{-2}$ is the earth’s gravitational force.\n",
    "\n",
    "The invariant $x \\geq 0$ enforces that the ball always bounces when it reaches the ground. The guard $x=0 \\wedge v\\leq0$ of the single discrete transition, which models the bouncing, ensures that bouncing happens after falling when reaching the ground. The corresponding reset condition $v:=-c \\cdot v$ accounts for the loss of energy due to the ball’s deformation, where $c\\in\\left[0,1\\right]$ is a constant known as [coefficient of restitution](https://en.wikipedia.org/wiki/Coefficient_of_restitution)."
   ]
  },
  {
   "cell_type": "markdown",
   "metadata": {},
   "source": [
    "The model parameters and description are taken from the [HyPro collection of continuous and hybrid system benchmarks](https://ths.rwth-aachen.de/research/projects/hypro/)."
   ]
  },
  {
   "cell_type": "code",
   "execution_count": null,
   "metadata": {},
   "outputs": [],
   "source": [
    "using Revise # to debug\n",
    "using Reachability, HybridSystems, MathematicalSystems, LazySets, LazySets.Approximations, LinearAlgebra "
   ]
  },
  {
   "cell_type": "code",
   "execution_count": null,
   "metadata": {},
   "outputs": [],
   "source": [
    "function bouncing_ball(;c = 0.75,\n",
    "                       X0 = Interval(10.0, 10.2) × Interval(0, 0),\n",
    "                       T = 40.0)\n",
    "\n",
    "    # automaton structure\n",
    "    automaton = LightAutomaton(1)\n",
    "\n",
    "    # falling : x' = Ax + b, x ∈ X\n",
    "    A = [0.0 1.0;\n",
    "         0.0 0.0]\n",
    "    b = [0.0,\n",
    "        -9.81]\n",
    "    X = HalfSpace([-1.0, 0.0], 0.0) # x >= 0\n",
    "    falling = ConstrainedAffineContinuousSystem(A, b, X)\n",
    "        \n",
    "    # modes\n",
    "    modes = [falling]\n",
    "\n",
    "    # transition from mode falling to mode falling (self-loop)\n",
    "    add_transition!(automaton, 1, 1, 1)\n",
    "    \n",
    "    # reset map (x, v) -> (x, -cv) with guard x == 0 and v <= 0\n",
    "    A = [1.0 0.0;\n",
    "         0.0 -c]\n",
    "    \n",
    "    guard = HPolyhedron([HalfSpace([0.0, 1.0], 0.0),   # v ≤ 0\n",
    "                         HalfSpace([-1.0, 0.0], 0.0),  # x ≥ 0\n",
    "                         HalfSpace([1.0, 0.0], 0.0)])  # x ≤ 0\n",
    "    \n",
    "    resetmaps = [ConstrainedLinearMap(A, guard)]\n",
    "\n",
    "    # switching\n",
    "    switchings = [AutonomousSwitching()]\n",
    "\n",
    "    ℋ = HybridSystem(automaton, modes, resetmaps, switchings)\n",
    "\n",
    "    # initial condition in \"falling\" mode\n",
    "    initial_condition = [(1, X0)]\n",
    "\n",
    "    problem = InitialValueProblem(ℋ, initial_condition)\n",
    "\n",
    "    options = Options(:mode=>\"reach\", :T=>T, :plot_vars=>[1, 2])\n",
    "\n",
    "    return (problem, options)\n",
    "end"
   ]
  },
  {
   "cell_type": "markdown",
   "metadata": {},
   "source": [
    "## Reachability settings"
   ]
  },
  {
   "cell_type": "markdown",
   "metadata": {},
   "source": [
    "We consider the inital set given by an uncertain initial position and certain momentum (at rest):\n",
    "\n",
    "$$\n",
    " x \\in [10, 10.2], v = 0.\n",
    "$$\n",
    "\n",
    "We use a time horizon of $T=40s$ and set the constant $c = 0.75$.\n",
    "The set of *bad states* is the set of all states where $v \\geq 10.7$."
   ]
  },
  {
   "cell_type": "code",
   "execution_count": null,
   "metadata": {},
   "outputs": [],
   "source": [
    "# settings\n",
    "c = 0.75\n",
    "X0 = Interval(10.0, 10.2) × Interval(0, 0)\n",
    "T = 20.0\n",
    "\n",
    "BouncingBall, options = bouncing_ball(c=c, X0=X0, T=T);\n",
    "BadStates = HalfSpace([0.0, -1.0], -10.7); # v >= 10.7"
   ]
  },
  {
   "cell_type": "markdown",
   "metadata": {},
   "source": [
    "## Results"
   ]
  },
  {
   "cell_type": "code",
   "execution_count": null,
   "metadata": {},
   "outputs": [],
   "source": [
    "using Plots, LaTeXStrings"
   ]
  },
  {
   "cell_type": "code",
   "execution_count": null,
   "metadata": {},
   "outputs": [],
   "source": [
    "#=\n",
    "doesn't work -- why?\n",
    "@time begin\n",
    "    sol = solve(BouncingBall, merge!(Options(:max_jumps=>0), options),\n",
    "                BFFPSV18(:δ=>0.1, :block_options=>OctDirections));\n",
    "end;\n",
    "=#\n",
    "\n",
    "\n",
    "#=\n",
    "@time begin\n",
    "    opts = merge!(Options(:max_jumps=>1, :project_reachset=>false, :verbosity=>1), options)\n",
    "    opC = GLGM06(:δ=>0.1, :max_order=>2)\n",
    "    opD = LazyDiscretePost(:check_invariant_intersection=>true,\n",
    "                           :lazy_R⋂I=>false, :overapproximation=>OctDirections)\n",
    "    \n",
    "    sol = solve(BouncingBall, opts, opC, opD)\n",
    "end;\n",
    "MethodError: Cannot `convert` an object of type HPolytope{Float64} to an object of type Zonotope\n",
    "=#\n",
    "\n",
    "@time begin\n",
    "    opts = merge!(Options(:max_jumps=>1, :project_reachset=>true, :set_type_proj=>HPolygon,\n",
    "                          :verbosity=>0), options)\n",
    "    opC = BFFPSV18(:δ=>0.1, :partition=>[1:2], :block_options=>OctDirections)\n",
    "    opD = LazyDiscretePost(:check_invariant_intersection=>false,\n",
    "                           :lazy_R⋂I=>true, :overapproximation=>OctDirections)\n",
    "    sol = solve(BouncingBall, opts, opC, opD);\n",
    "end;"
   ]
  },
  {
   "cell_type": "code",
   "execution_count": null,
   "metadata": {},
   "outputs": [],
   "source": [
    "sol.options.dict"
   ]
  },
  {
   "cell_type": "code",
   "execution_count": null,
   "metadata": {},
   "outputs": [],
   "source": [
    "sol.Xk[1].X, sol.Xk[2].X "
   ]
  },
  {
   "cell_type": "code",
   "execution_count": null,
   "metadata": {},
   "outputs": [],
   "source": [
    "plot(sol)"
   ]
  },
  {
   "cell_type": "code",
   "execution_count": null,
   "metadata": {},
   "outputs": [],
   "source": [
    "plot(sol, xlab=L\"x\", ylab=L\"v\", alpha=.5)"
   ]
  },
  {
   "cell_type": "code",
   "execution_count": null,
   "metadata": {},
   "outputs": [],
   "source": [
    "plot(sol, xlab=L\"x\", ylab=L\"v\", alpha=.5)"
   ]
  },
  {
   "cell_type": "code",
   "execution_count": null,
   "metadata": {},
   "outputs": [],
   "source": [
    "# just checking the flowpipe for the \"falling\" mode:"
   ]
  },
  {
   "cell_type": "code",
   "execution_count": null,
   "metadata": {},
   "outputs": [],
   "source": [
    "X0"
   ]
  },
  {
   "cell_type": "code",
   "execution_count": null,
   "metadata": {},
   "outputs": [],
   "source": [
    "# falling : x' = Ax + b, x ∈ X\n",
    "A = [0.0 1.0;\n",
    "     0.0 0.0]\n",
    "\n",
    "b = [0.0,\n",
    "    -9.81]\n",
    "\n",
    "problem = IVP(AffineContinuousSystem(A, b), X0)\n",
    "options = Options(:mode=>\"reach\", :T=>10., :plot_vars=>[1, 2])\n",
    "\n",
    "# produces box flowipe\n",
    "sol = solve(problem, options, op=BFFPSV18(:δ=>1.0));\n",
    "\n",
    "using LazySets.Approximations\n",
    "\n",
    "# produces box flowipe -- not too accurate, compare w/zonotopes \n",
    "#sol = solve(problem, options, op=BFFPSV18(:δ=>0.1));\n",
    "\n",
    "# should produce octagons -- doesn't work !\n",
    "#sol = solve(problem, options, op=BFFPSV18(:δ=>0.01, :partition=>[1:2],\n",
    "#            :block_options=>OctDirections));\n",
    "\n",
    "# use zonotope-based algorithm\n",
    "@time sol = solve(problem, options, op=GLGM06(:δ=>0.1, :max_order=>2));"
   ]
  },
  {
   "cell_type": "code",
   "execution_count": null,
   "metadata": {},
   "outputs": [],
   "source": [
    "plot([sol.Xk[i].X for i in eachindex(sol.Xk)], alpha=.5, color=:lightblue)"
   ]
  },
  {
   "cell_type": "code",
   "execution_count": null,
   "metadata": {},
   "outputs": [],
   "source": []
  }
 ],
 "metadata": {
  "@webio": {
   "lastCommId": null,
   "lastKernelId": null
  },
  "kernelspec": {
   "display_name": "Julia 1.1.0-rc2",
   "language": "julia",
   "name": "julia-1.1"
  },
  "language_info": {
   "file_extension": ".jl",
   "mimetype": "application/julia",
   "name": "julia",
   "version": "1.1.0"
  }
 },
 "nbformat": 4,
 "nbformat_minor": 2
}
