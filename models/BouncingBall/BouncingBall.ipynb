{
 "cells": [
  {
   "cell_type": "markdown",
   "metadata": {},
   "source": [
    "## Model description"
   ]
  },
  {
   "cell_type": "markdown",
   "metadata": {},
   "source": [
    "This model corresponds to the \"classical\" bouncing ball. It is perhaps the simplest example of a hybrid ODE, since it presents only one discrete transition. The model consists of a ball dropped from a predefined height. It hits the ground after a certain time, loses energy and then bounces back into the air and starts to fall again.\n",
    "\n",
    "This model has 2 continuous variables, 1 mode and 1 discrete jump."
   ]
  },
  {
   "cell_type": "markdown",
   "metadata": {},
   "source": [
    "The physical phenomena can be represented as the following hybrid automaton:\n",
    "\n",
    "<img src=\"BouncingBall.png\" alt=\"Drawing\" style=\"width: 300px;\"/>"
   ]
  },
  {
   "cell_type": "markdown",
   "metadata": {},
   "source": [
    "In the discrete state, the motion of the ball, assumed to have a mass of $m = 1 kg$, is governed by the following differential equation:\n",
    "\n",
    "$$\n",
    "\\begin{array} \\\\x'(t)= & v(t)\\\\ v'(t) = & -9.81 \\end{array}\n",
    "$$\n",
    "where $x$ is the ball’s height from the ground, $v$ is the ball’s vertical velocity, and $9.81ms^{-2}$ is the earth’s gravitational force.\n",
    "\n",
    "The invariant $x \\geq 0$ enforces that the ball always bounces when it reaches the ground. The guard $x=0 \\wedge v\\leq0$ of the single discrete transition, which models the bouncing, ensures that bouncing happens after falling when reaching the ground. The corresponding reset condition $v:=-c \\cdot v$ accounts for the loss of energy due to the ball’s deformation, where $c\\in\\left[0,1\\right]$ is a constant known as [coefficient of restitution](https://en.wikipedia.org/wiki/Coefficient_of_restitution)."
   ]
  },
  {
   "cell_type": "markdown",
   "metadata": {},
   "source": [
    "The model parameters and description are taken from the [HyPro collection of continuous and hybrid system benchmarks](https://ths.rwth-aachen.de/research/projects/hypro/)."
   ]
  },
  {
   "cell_type": "code",
   "execution_count": 1,
   "metadata": {},
   "outputs": [
    {
     "name": "stderr",
     "output_type": "stream",
     "text": [
      "┌ Info: Recompiling stale cache file /Users/forets/.julia/compiled/v1.1/Reachability/CHV4V.ji for Reachability [774a0091-654f-5c65-bbdc-ad5b67b45832]\n",
      "└ @ Base loading.jl:1184\n",
      "ERROR: LoadError: LoadError: LoadError: UndefVarError: A_S not defined\n",
      "Stacktrace:\n",
      " [1] top-level scope at /Users/forets/.julia/dev/Reachability/src/Utils/normalization.jl:120\n",
      " [2] include at ./boot.jl:326 [inlined]\n",
      " [3] include_relative(::Module, ::String) at ./loading.jl:1038\n",
      " [4] include at ./sysimg.jl:29 [inlined]\n",
      " [5] include(::String) at /Users/forets/.julia/dev/Reachability/src/Utils/Utils.jl:5\n",
      " [6] top-level scope at none:0\n",
      " [7] include at ./boot.jl:326 [inlined]\n",
      " [8] include_relative(::Module, ::String) at ./loading.jl:1038\n",
      " [9] include at ./sysimg.jl:29 [inlined]\n",
      " [10] include(::String) at /Users/forets/.julia/dev/Reachability/src/Reachability.jl:5\n",
      " [11] top-level scope at none:0\n",
      " [12] include at ./boot.jl:326 [inlined]\n",
      " [13] include_relative(::Module, ::String) at ./loading.jl:1038\n",
      " [14] include(::Module, ::String) at ./sysimg.jl:29\n",
      " [15] top-level scope at none:2\n",
      " [16] eval at ./boot.jl:328 [inlined]\n",
      " [17] eval(::Expr) at ./client.jl:404\n",
      " [18] top-level scope at ./none:3\n",
      "in expression starting at /Users/forets/.julia/dev/Reachability/src/Utils/normalization.jl:119\n",
      "in expression starting at /Users/forets/.julia/dev/Reachability/src/Utils/Utils.jl:42\n",
      "in expression starting at /Users/forets/.julia/dev/Reachability/src/Reachability.jl:19\n"
     ]
    },
    {
     "ename": "ErrorException",
     "evalue": "Failed to precompile Reachability [774a0091-654f-5c65-bbdc-ad5b67b45832] to /Users/forets/.julia/compiled/v1.1/Reachability/CHV4V.ji.",
     "output_type": "error",
     "traceback": [
      "Failed to precompile Reachability [774a0091-654f-5c65-bbdc-ad5b67b45832] to /Users/forets/.julia/compiled/v1.1/Reachability/CHV4V.ji.",
      "",
      "Stacktrace:",
      " [1] error(::String) at ./error.jl:33",
      " [2] compilecache(::Base.PkgId, ::String) at ./loading.jl:1197",
      " [3] _require(::Base.PkgId) at ./loading.jl:960",
      " [4] require(::Base.PkgId) at ./loading.jl:858",
      " [5] require(::Module, ::Symbol) at ./loading.jl:853",
      " [6] top-level scope at In[1]:2"
     ]
    }
   ],
   "source": [
    "using Revise # to debug\n",
    "using Reachability, HybridSystems, MathematicalSystems, LazySets, LinearAlgebra"
   ]
  },
  {
   "cell_type": "code",
   "execution_count": 2,
   "metadata": {},
   "outputs": [
    {
     "data": {
      "text/plain": [
       "bouncing_ball (generic function with 1 method)"
      ]
     },
     "execution_count": 2,
     "metadata": {},
     "output_type": "execute_result"
    }
   ],
   "source": [
    "function bouncing_ball(;c = 0.75,\n",
    "                       X0 = Interval(10.0, 10.2) × Interval(0, 0),\n",
    "                       T = 40.0)\n",
    "\n",
    "    # automaton structure\n",
    "    automaton = LightAutomaton(1)\n",
    "\n",
    "    # falling : x' = Ax + b, x ∈ X\n",
    "    A = [0.0 1.0;\n",
    "         0.0 0.0]\n",
    "    b = [0.0,\n",
    "        -9.81]\n",
    "    X = HalfSpace([-1.0, 0.0], 0.0) # x >= 0\n",
    "    falling = ConstrainedAffineContinuousSystem(A, b, X)\n",
    "        \n",
    "    # modes\n",
    "    modes = [falling]\n",
    "\n",
    "    # transition from mode falling to mode falling (self-loop)\n",
    "    add_transition!(automaton, 1, 1, 1)\n",
    "    \n",
    "    # reset map (x, v) -> (x, -cv) with guard x == 0 and v <= 0\n",
    "    A = [1.0 0.0;\n",
    "         0.0 -c]\n",
    "    \n",
    "    guard = HPolyhedron([HalfSpace([0.0, 1.0], 0.0),   # v ≤ 0\n",
    "                         HalfSpace([-1.0, 0.0], 0.0),  # x ≥ 0\n",
    "                         HalfSpace([1.0, 0.0], 0.0)])  # x ≤ 0\n",
    "    \n",
    "    resetmaps = [ConstrainedLinearMap(A, guard)]\n",
    "\n",
    "    # switching\n",
    "    switchings = [AutonomousSwitching()]\n",
    "\n",
    "    ℋ = HybridSystem(automaton, modes, resetmaps, switchings)\n",
    "\n",
    "    # initial condition in \"falling\" mode\n",
    "    initial_condition = [(1, X0)]\n",
    "\n",
    "    problem = InitialValueProblem(ℋ, initial_condition)\n",
    "\n",
    "    options = Options(:mode=>\"reach\", :T=>T, :plot_vars=>[1, 2])\n",
    "\n",
    "    return (problem, options)\n",
    "end"
   ]
  },
  {
   "cell_type": "markdown",
   "metadata": {},
   "source": [
    "## Reachability settings"
   ]
  },
  {
   "cell_type": "markdown",
   "metadata": {},
   "source": [
    "We consider the inital set given by an uncertain initial position and certain momentum (at rest):\n",
    "\n",
    "$$\n",
    " x \\in [10, 10.2], v = 0.\n",
    "$$\n",
    "\n",
    "We use a time horizon of $T=40s$ and set the constant $c = 0.75$.\n",
    "The set of *bad states* is the set of all states where $v \\geq 10.7$."
   ]
  },
  {
   "cell_type": "code",
   "execution_count": 3,
   "metadata": {},
   "outputs": [
    {
     "ename": "UndefVarError",
     "evalue": "UndefVarError: Interval not defined",
     "output_type": "error",
     "traceback": [
      "UndefVarError: Interval not defined",
      "",
      "Stacktrace:",
      " [1] top-level scope at In[3]:3"
     ]
    }
   ],
   "source": [
    "# settings\n",
    "c = 0.75\n",
    "X0 = Interval(10.0, 10.2) × Interval(0, 0)\n",
    "T = 20.0\n",
    "\n",
    "BouncingBall, options = bouncing_ball(c=c, X0=X0, T=T);\n",
    "BadStates = HalfSpace([0.0, -1.0], -10.7); # v >= 10.7"
   ]
  },
  {
   "cell_type": "markdown",
   "metadata": {},
   "source": [
    "## Results"
   ]
  },
  {
   "cell_type": "code",
   "execution_count": 4,
   "metadata": {},
   "outputs": [],
   "source": [
    "using Plots, LaTeXStrings"
   ]
  },
  {
   "cell_type": "code",
   "execution_count": 5,
   "metadata": {},
   "outputs": [
    {
     "ename": "UndefVarError",
     "evalue": "UndefVarError: HPolygon not defined",
     "output_type": "error",
     "traceback": [
      "UndefVarError: HPolygon not defined",
      "",
      "Stacktrace:",
      " [1] top-level scope at In[5]:10",
      " [2] top-level scope at util.jl:156",
      " [3] top-level scope at In[5]:1"
     ]
    }
   ],
   "source": [
    "#=\n",
    "doesn't work -- why?\n",
    "@time begin\n",
    "    sol = solve(BouncingBall, merge!(Options(:max_jumps=>0), options),\n",
    "                BFFPSV18(:δ=>0.1, :block_options=>OctDirections));\n",
    "end;\n",
    "=#\n",
    "\n",
    "@time begin\n",
    "    sol = solve(BouncingBall, merge!(Options(:max_jumps=>0, :project_reachset=>false,\n",
    "                                             :set_type_proj=>HPolygon, :verbosity=>1), options),\n",
    "                BFFPSV18(:δ=>0.1, :partition=>[1:2], :block_options=>[HPolygon=>1e-2]));\n",
    "end;"
   ]
  },
  {
   "cell_type": "code",
   "execution_count": 6,
   "metadata": {},
   "outputs": [
    {
     "ename": "UndefVarError",
     "evalue": "UndefVarError: sol not defined",
     "output_type": "error",
     "traceback": [
      "UndefVarError: sol not defined",
      "",
      "Stacktrace:",
      " [1] top-level scope at In[6]:1"
     ]
    }
   ],
   "source": [
    "sol.options.dict"
   ]
  },
  {
   "cell_type": "code",
   "execution_count": 7,
   "metadata": {},
   "outputs": [
    {
     "ename": "UndefVarError",
     "evalue": "UndefVarError: sol not defined",
     "output_type": "error",
     "traceback": [
      "UndefVarError: sol not defined",
      "",
      "Stacktrace:",
      " [1] top-level scope at In[7]:1"
     ]
    }
   ],
   "source": [
    "sol.Xk[5]"
   ]
  },
  {
   "cell_type": "code",
   "execution_count": 8,
   "metadata": {},
   "outputs": [
    {
     "ename": "UndefVarError",
     "evalue": "UndefVarError: sol not defined",
     "output_type": "error",
     "traceback": [
      "UndefVarError: sol not defined",
      "",
      "Stacktrace:",
      " [1] top-level scope at In[8]:1"
     ]
    }
   ],
   "source": [
    "plot(sol, xlab=L\"x\", ylab=L\"v\", alpha=.5)"
   ]
  },
  {
   "cell_type": "code",
   "execution_count": 9,
   "metadata": {},
   "outputs": [
    {
     "ename": "UndefVarError",
     "evalue": "UndefVarError: sol not defined",
     "output_type": "error",
     "traceback": [
      "UndefVarError: sol not defined",
      "",
      "Stacktrace:",
      " [1] top-level scope at In[9]:1"
     ]
    }
   ],
   "source": [
    "plot(sol, xlab=L\"x\", ylab=L\"v\", alpha=.5)"
   ]
  },
  {
   "cell_type": "code",
   "execution_count": 10,
   "metadata": {},
   "outputs": [],
   "source": [
    "# just checking the flowpipe for the \"falling\" mode:"
   ]
  },
  {
   "cell_type": "code",
   "execution_count": 11,
   "metadata": {},
   "outputs": [
    {
     "ename": "UndefVarError",
     "evalue": "UndefVarError: Singleton not defined",
     "output_type": "error",
     "traceback": [
      "UndefVarError: Singleton not defined",
      "",
      "Stacktrace:",
      " [1] top-level scope at In[11]:6"
     ]
    }
   ],
   "source": [
    "# falling : x' = Ax + b, x ∈ X\n",
    "A = [0.0 1.0;\n",
    "     0.0 0.0]\n",
    "b = [0.0,\n",
    "    -9.81]\n",
    "U = Singleton([1.0])\n",
    "\n",
    "problem = IVP(AffineContinuousSystem(A, b), X0)\n",
    "options = Options(:mode=>\"reach\", :T=>10, :plot_vars=>[1, 2])\n",
    "\n",
    "solve(problem, options, op=BFFPSV18(:δ=>1.0));"
   ]
  },
  {
   "cell_type": "code",
   "execution_count": 12,
   "metadata": {},
   "outputs": [
    {
     "ename": "UndefVarError",
     "evalue": "UndefVarError: AffineContinuousSystem not defined",
     "output_type": "error",
     "traceback": [
      "UndefVarError: AffineContinuousSystem not defined",
      "",
      "Stacktrace:",
      " [1] top-level scope at In[12]:1"
     ]
    }
   ],
   "source": [
    "AffineContinuousSystem(A, b)"
   ]
  },
  {
   "cell_type": "code",
   "execution_count": null,
   "metadata": {},
   "outputs": [],
   "source": []
  }
 ],
 "metadata": {
  "@webio": {
   "lastCommId": null,
   "lastKernelId": null
  },
  "kernelspec": {
   "display_name": "Julia 1.1.0-rc2",
   "language": "julia",
   "name": "julia-1.1"
  },
  "language_info": {
   "file_extension": ".jl",
   "mimetype": "application/julia",
   "name": "julia",
   "version": "1.1.0"
  }
 },
 "nbformat": 4,
 "nbformat_minor": 2
}
