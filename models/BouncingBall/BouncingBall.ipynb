{
 "cells": [
  {
   "cell_type": "markdown",
   "metadata": {},
   "source": [
    "## Model description"
   ]
  },
  {
   "cell_type": "markdown",
   "metadata": {},
   "source": [
    "This model corresponds to the \"classical\" bouncing ball. It is perhaps the simplest example of a hybrid ODE, since it presents only one discrete transition. The model consists of a ball dropped from a predefined height. It hits the ground after a certain time, loses energy and then bounces back into the air and starts to fall again.\n",
    "\n",
    "This model has 2 continuous variables, 1 mode and 1 discrete jump."
   ]
  },
  {
   "cell_type": "markdown",
   "metadata": {},
   "source": [
    "The physical phenomena can be represented as the following hybrid automaton:\n",
    "\n",
    "<img src=\"BouncingBall.png\" alt=\"Drawing\" style=\"width: 300px;\"/>"
   ]
  },
  {
   "cell_type": "markdown",
   "metadata": {},
   "source": [
    "In the discrete state, the motion of the ball, assumed to have a mass of $m = 1 kg$, is governed by the following differential equation:\n",
    "\n",
    "$$\n",
    "\\begin{array} \\\\x'(t)= & v(t)\\\\ v'(t) = & -9.81 \\end{array}\n",
    "$$\n",
    "where $x$ is the ball’s height from the ground, $v$ is the ball’s vertical velocity, and $9.81ms^{-2}$ is the earth’s gravitational force.\n",
    "\n",
    "The invariant $x \\geq 0$ enforces that the ball always bounces when it reaches the ground. The guard $x=0 \\wedge v\\leq0$ of the single discrete transition, which models the bouncing, ensures that bouncing happens after falling when reaching the ground. The corresponding reset condition $v:=-c \\cdot v$ accounts for the loss of energy due to the ball’s deformation, where $c\\in\\left[0,1\\right]$ is a constant known as [coefficient of restitution](https://en.wikipedia.org/wiki/Coefficient_of_restitution)."
   ]
  },
  {
   "cell_type": "markdown",
   "metadata": {},
   "source": [
    "The model parameters and description are taken from the [HyPro collection of continuous and hybrid system benchmarks](https://ths.rwth-aachen.de/research/projects/hypro/)."
   ]
  },
  {
   "cell_type": "code",
   "execution_count": 1,
   "metadata": {},
   "outputs": [
    {
     "name": "stderr",
     "output_type": "stream",
     "text": [
      "┌ Info: Recompiling stale cache file /Users/forets/.julia/compiled/v1.1/Reachability/CHV4V.ji for Reachability [774a0091-654f-5c65-bbdc-ad5b67b45832]\n",
      "└ @ Base loading.jl:1184\n",
      "WARNING: using TaylorSeries.update! in module ReachSets conflicts with an existing identifier.\n",
      "┌ Warning: Package LazySets does not have Expokit in its dependencies:\n",
      "│ - If you have LazySets checked out for development and have\n",
      "│   added Expokit as a dependency but haven't updated your primary\n",
      "│   environment's manifest file, try `Pkg.resolve()`.\n",
      "│ - Otherwise you may need to report an issue with LazySets\n",
      "│ Loading Expokit into LazySets from project dependency, future warnings for LazySets are suppressed.\n",
      "└ @ nothing nothing:840\n"
     ]
    }
   ],
   "source": [
    "using Revise # to debug\n",
    "using Reachability, HybridSystems, MathematicalSystems, LazySets, LazySets.Approximations, LinearAlgebra "
   ]
  },
  {
   "cell_type": "code",
   "execution_count": 2,
   "metadata": {},
   "outputs": [
    {
     "data": {
      "text/plain": [
       "bouncing_ball (generic function with 1 method)"
      ]
     },
     "execution_count": 2,
     "metadata": {},
     "output_type": "execute_result"
    }
   ],
   "source": [
    "function bouncing_ball(;c = 0.75,\n",
    "                       X0 = Interval(10.0, 10.2) × Interval(0, 0),\n",
    "                       T = 40.0)\n",
    "\n",
    "    # automaton structure\n",
    "    automaton = LightAutomaton(1)\n",
    "\n",
    "    # falling : x' = Ax + b, x ∈ X\n",
    "    A = [0.0 1.0;\n",
    "         0.0 0.0]\n",
    "    b = [0.0,\n",
    "        -9.81]\n",
    "    X = HalfSpace([-1.0, 0.0], 0.0) # x >= 0\n",
    "    falling = ConstrainedAffineContinuousSystem(A, b, X)\n",
    "        \n",
    "    # modes\n",
    "    modes = [falling]\n",
    "\n",
    "    # transition from mode falling to mode falling (self-loop)\n",
    "    add_transition!(automaton, 1, 1, 1)\n",
    "    \n",
    "    # reset map (x, v) -> (x, -cv) with guard x == 0 and v <= 0\n",
    "    A = [1.0 0.0;\n",
    "         0.0 -c]\n",
    "    \n",
    "    guard = HPolyhedron([HalfSpace([0.0, 1.0], 0.0),   # v ≤ 0\n",
    "                         HalfSpace([-1.0, 0.0], 0.0),  # x ≥ 0\n",
    "                         HalfSpace([1.0, 0.0], 0.0)])  # x ≤ 0\n",
    "    \n",
    "    resetmaps = [ConstrainedLinearMap(A, guard)]\n",
    "\n",
    "    # switching\n",
    "    switchings = [AutonomousSwitching()]\n",
    "\n",
    "    ℋ = HybridSystem(automaton, modes, resetmaps, switchings)\n",
    "\n",
    "    # initial condition in \"falling\" mode\n",
    "    initial_condition = [(1, X0)]\n",
    "\n",
    "    problem = InitialValueProblem(ℋ, initial_condition)\n",
    "\n",
    "    options = Options(:mode=>\"reach\", :T=>T, :plot_vars=>[1, 2])\n",
    "\n",
    "    return (problem, options)\n",
    "end"
   ]
  },
  {
   "cell_type": "markdown",
   "metadata": {},
   "source": [
    "## Reachability settings"
   ]
  },
  {
   "cell_type": "markdown",
   "metadata": {},
   "source": [
    "We consider the inital set given by an uncertain initial position and certain momentum (at rest):\n",
    "\n",
    "$$\n",
    " x \\in [10, 10.2], v = 0.\n",
    "$$\n",
    "\n",
    "We use a time horizon of $T=40s$ and set the constant $c = 0.75$.\n",
    "The set of *bad states* is the set of all states where $v \\geq 10.7$."
   ]
  },
  {
   "cell_type": "code",
   "execution_count": 3,
   "metadata": {},
   "outputs": [],
   "source": [
    "# settings\n",
    "c = 0.75\n",
    "X0 = Interval(10.0, 10.2) × Interval(0, 0)\n",
    "T = 20.0\n",
    "\n",
    "BouncingBall, options = bouncing_ball(c=c, X0=X0, T=T);\n",
    "BadStates = HalfSpace([0.0, -1.0], -10.7); # v >= 10.7"
   ]
  },
  {
   "cell_type": "markdown",
   "metadata": {},
   "source": [
    "## Results"
   ]
  },
  {
   "cell_type": "code",
   "execution_count": 4,
   "metadata": {},
   "outputs": [],
   "source": [
    "using Plots, LaTeXStrings"
   ]
  },
  {
   "cell_type": "code",
   "execution_count": 26,
   "metadata": {},
   "outputs": [
    {
     "name": "stdout",
     "output_type": "stream",
     "text": [
      "\u001b[35m[warn] Several option aliases were used for aliases Symbol[:check_invariant_intersection].\u001b[39m\n",
      "\u001b[35m[warn] Several option aliases were used for aliases Symbol[:overapproximation].\u001b[39m\n",
      "\u001b[35m[warn] Several option aliases were used for aliases Symbol[:lazy_R⋂I].\u001b[39m\n",
      "OctDirections\n",
      "16\n",
      "  1.257827 seconds (2.01 M allocations: 100.213 MiB, 7.06% gc time)\n"
     ]
    }
   ],
   "source": [
    "#=\n",
    "doesn't work -- why?\n",
    "@time begin\n",
    "    sol = solve(BouncingBall, merge!(Options(:max_jumps=>0), options),\n",
    "                BFFPSV18(:δ=>0.1, :block_options=>OctDirections));\n",
    "end;\n",
    "=#\n",
    "\n",
    "\n",
    "#=\n",
    "@time begin\n",
    "    opts = merge!(Options(:max_jumps=>1, :project_reachset=>false, :verbosity=>1), options)\n",
    "    opC = GLGM06(:δ=>0.1, :max_order=>2)\n",
    "    opD = LazyDiscretePost(:check_invariant_intersection=>true,\n",
    "                           :lazy_R⋂I=>false, :overapproximation=>OctDirections)\n",
    "    \n",
    "    sol = solve(BouncingBall, opts, opC, opD)\n",
    "end;\n",
    "MethodError: Cannot `convert` an object of type HPolytope{Float64} to an object of type Zonotope\n",
    "=#\n",
    "\n",
    "#=\n",
    "@time begin\n",
    "    opts = merge!(Options(:max_jumps=>1, :project_reachset=>true, :set_type_proj=>HPolygon,\n",
    "                          :verbosity=>0), options)\n",
    "    opC = BFFPSV18(:δ=>0.1, :partition=>[1:2], :block_options=>OctDirections)\n",
    "    opD = LazyDiscretePost(:check_invariant_intersection=>false,\n",
    "                           :lazy_R⋂I=>true, :overapproximation=>OctDirections)\n",
    "    sol = solve(BouncingBall, opts, opC, opD);\n",
    "end;\n",
    "=#\n",
    "\n",
    "@time begin\n",
    "    opts = merge!(Options(:max_jumps=>1, :project_reachset=>true, :set_type_proj=>HPolygon,\n",
    "                          :verbosity=>0), options)\n",
    "    opC = BFFPSV18(:δ=>0.1, :partition=>[1:2], :block_options=>OctDirections)\n",
    "    opD = LazyDiscretePost(:check_invariant_intersection=>true,\n",
    "                           :lazy_R⋂I=>false, :overapproximation=>OctDirections)\n",
    "    sol = solve(BouncingBall, opts, opC, opD);\n",
    "end;"
   ]
  },
  {
   "cell_type": "code",
   "execution_count": 21,
   "metadata": {},
   "outputs": [
    {
     "data": {
      "text/plain": [
       "Dict{Symbol,Any} with 16 entries:\n",
       "  :property                  => nothing\n",
       "  :ε_proj                    => Inf\n",
       "  :n                         => 2\n",
       "  :verbosity                 => 0\n",
       "  :coordinate_transformation => \"\"\n",
       "  :plot_vars                 => [1, 2]\n",
       "  :inout_map                 => [1, 2]\n",
       "  :set_type_proj             => HPolygon\n",
       "  :max_jumps                 => 1\n",
       "  :mode                      => \"reach\"\n",
       "  :transformation_matrix     => nothing\n",
       "  :clustering                => :chull\n",
       "  :T                         => 20.0\n",
       "  :projection_matrix         => nothing\n",
       "  :project_reachset          => true\n",
       "  :fixpoint_check            => :eager"
      ]
     },
     "execution_count": 21,
     "metadata": {},
     "output_type": "execute_result"
    }
   ],
   "source": [
    "sol.options.dict"
   ]
  },
  {
   "cell_type": "code",
   "execution_count": 22,
   "metadata": {},
   "outputs": [
    {
     "data": {
      "text/plain": [
       "4-element Array{HalfSpace{Float64},1}:\n",
       " HalfSpace{Float64}([1.0, 0.0], 10.24905)            \n",
       " HalfSpace{Float64}([0.0, 1.0], 2.55351295663786e-15)\n",
       " HalfSpace{Float64}([-1.0, 0.0], -9.950949999999999) \n",
       " HalfSpace{Float64}([0.0, -1.0], 0.9810000000000025) "
      ]
     },
     "execution_count": 22,
     "metadata": {},
     "output_type": "execute_result"
    }
   ],
   "source": [
    "constraints_list(sol.Xk[1].X)"
   ]
  },
  {
   "cell_type": "code",
   "execution_count": 23,
   "metadata": {},
   "outputs": [
    {
     "data": {
      "text/plain": [
       "4-element Array{HalfSpace{Float64},1}:\n",
       " HalfSpace{Float64}([1.0, 0.0], 10.293195)          \n",
       " HalfSpace{Float64}([0.0, 1.0], -0.9809999999999975)\n",
       " HalfSpace{Float64}([-1.0, 0.0], -9.803799999999999)\n",
       " HalfSpace{Float64}([0.0, -1.0], 1.9620000000000026)"
      ]
     },
     "execution_count": 23,
     "metadata": {},
     "output_type": "execute_result"
    }
   ],
   "source": [
    "constraints_list(sol.Xk[2].X)"
   ]
  },
  {
   "cell_type": "code",
   "execution_count": 24,
   "metadata": {},
   "outputs": [
    {
     "data": {
      "image/svg+xml": [
       "<?xml version=\"1.0\" encoding=\"utf-8\"?>\n",
       "<svg xmlns=\"http://www.w3.org/2000/svg\" xmlns:xlink=\"http://www.w3.org/1999/xlink\" width=\"600\" height=\"400\" viewBox=\"0 0 2400 1600\">\n",
       "<defs>\n",
       "  <clipPath id=\"clip5000\">\n",
       "    <rect x=\"0\" y=\"0\" width=\"2400\" height=\"1600\"/>\n",
       "  </clipPath>\n",
       "</defs>\n",
       "<polygon clip-path=\"url(#clip5000)\" points=\"\n",
       "0,1600 2400,1600 2400,0 0,0 \n",
       "  \" fill=\"#ffffff\" fill-rule=\"evenodd\" fill-opacity=\"1\"/>\n",
       "<defs>\n",
       "  <clipPath id=\"clip5001\">\n",
       "    <rect x=\"480\" y=\"0\" width=\"1681\" height=\"1600\"/>\n",
       "  </clipPath>\n",
       "</defs>\n",
       "<polygon clip-path=\"url(#clip5000)\" points=\"\n",
       "239.115,1440.48 2321.26,1440.48 2321.26,47.2441 239.115,47.2441 \n",
       "  \" fill=\"#ffffff\" fill-rule=\"evenodd\" fill-opacity=\"1\"/>\n",
       "<defs>\n",
       "  <clipPath id=\"clip5002\">\n",
       "    <rect x=\"239\" y=\"47\" width=\"2083\" height=\"1394\"/>\n",
       "  </clipPath>\n",
       "</defs>\n",
       "<polyline clip-path=\"url(#clip5002)\" style=\"stroke:#000000; stroke-width:2; stroke-opacity:0.1; fill:none\" points=\"\n",
       "  298.044,1440.48 298.044,47.2441 \n",
       "  \"/>\n",
       "<polyline clip-path=\"url(#clip5002)\" style=\"stroke:#000000; stroke-width:2; stroke-opacity:0.1; fill:none\" points=\"\n",
       "  775.128,1440.48 775.128,47.2441 \n",
       "  \"/>\n",
       "<polyline clip-path=\"url(#clip5002)\" style=\"stroke:#000000; stroke-width:2; stroke-opacity:0.1; fill:none\" points=\"\n",
       "  1252.21,1440.48 1252.21,47.2441 \n",
       "  \"/>\n",
       "<polyline clip-path=\"url(#clip5002)\" style=\"stroke:#000000; stroke-width:2; stroke-opacity:0.1; fill:none\" points=\"\n",
       "  1729.3,1440.48 1729.3,47.2441 \n",
       "  \"/>\n",
       "<polyline clip-path=\"url(#clip5002)\" style=\"stroke:#000000; stroke-width:2; stroke-opacity:0.1; fill:none\" points=\"\n",
       "  2206.38,1440.48 2206.38,47.2441 \n",
       "  \"/>\n",
       "<polyline clip-path=\"url(#clip5002)\" style=\"stroke:#000000; stroke-width:2; stroke-opacity:0.1; fill:none\" points=\"\n",
       "  239.115,1369.01 2321.26,1369.01 \n",
       "  \"/>\n",
       "<polyline clip-path=\"url(#clip5002)\" style=\"stroke:#000000; stroke-width:2; stroke-opacity:0.1; fill:none\" points=\"\n",
       "  239.115,941.567 2321.26,941.567 \n",
       "  \"/>\n",
       "<polyline clip-path=\"url(#clip5002)\" style=\"stroke:#000000; stroke-width:2; stroke-opacity:0.1; fill:none\" points=\"\n",
       "  239.115,514.121 2321.26,514.121 \n",
       "  \"/>\n",
       "<polyline clip-path=\"url(#clip5002)\" style=\"stroke:#000000; stroke-width:2; stroke-opacity:0.1; fill:none\" points=\"\n",
       "  239.115,86.6754 2321.26,86.6754 \n",
       "  \"/>\n",
       "<polyline clip-path=\"url(#clip5000)\" style=\"stroke:#000000; stroke-width:4; stroke-opacity:1; fill:none\" points=\"\n",
       "  239.115,1440.48 2321.26,1440.48 \n",
       "  \"/>\n",
       "<polyline clip-path=\"url(#clip5000)\" style=\"stroke:#000000; stroke-width:4; stroke-opacity:1; fill:none\" points=\"\n",
       "  239.115,1440.48 239.115,47.2441 \n",
       "  \"/>\n",
       "<polyline clip-path=\"url(#clip5000)\" style=\"stroke:#000000; stroke-width:4; stroke-opacity:1; fill:none\" points=\"\n",
       "  298.044,1440.48 298.044,1419.58 \n",
       "  \"/>\n",
       "<polyline clip-path=\"url(#clip5000)\" style=\"stroke:#000000; stroke-width:4; stroke-opacity:1; fill:none\" points=\"\n",
       "  775.128,1440.48 775.128,1419.58 \n",
       "  \"/>\n",
       "<polyline clip-path=\"url(#clip5000)\" style=\"stroke:#000000; stroke-width:4; stroke-opacity:1; fill:none\" points=\"\n",
       "  1252.21,1440.48 1252.21,1419.58 \n",
       "  \"/>\n",
       "<polyline clip-path=\"url(#clip5000)\" style=\"stroke:#000000; stroke-width:4; stroke-opacity:1; fill:none\" points=\"\n",
       "  1729.3,1440.48 1729.3,1419.58 \n",
       "  \"/>\n",
       "<polyline clip-path=\"url(#clip5000)\" style=\"stroke:#000000; stroke-width:4; stroke-opacity:1; fill:none\" points=\"\n",
       "  2206.38,1440.48 2206.38,1419.58 \n",
       "  \"/>\n",
       "<polyline clip-path=\"url(#clip5000)\" style=\"stroke:#000000; stroke-width:4; stroke-opacity:1; fill:none\" points=\"\n",
       "  239.115,1369.01 270.347,1369.01 \n",
       "  \"/>\n",
       "<polyline clip-path=\"url(#clip5000)\" style=\"stroke:#000000; stroke-width:4; stroke-opacity:1; fill:none\" points=\"\n",
       "  239.115,941.567 270.347,941.567 \n",
       "  \"/>\n",
       "<polyline clip-path=\"url(#clip5000)\" style=\"stroke:#000000; stroke-width:4; stroke-opacity:1; fill:none\" points=\"\n",
       "  239.115,514.121 270.347,514.121 \n",
       "  \"/>\n",
       "<polyline clip-path=\"url(#clip5000)\" style=\"stroke:#000000; stroke-width:4; stroke-opacity:1; fill:none\" points=\"\n",
       "  239.115,86.6754 270.347,86.6754 \n",
       "  \"/>\n",
       "<g clip-path=\"url(#clip5000)\">\n",
       "<text style=\"fill:#000000; fill-opacity:1; font-family:Arial,Helvetica Neue,Helvetica,sans-serif; font-size:48px; text-anchor:middle;\" transform=\"rotate(0, 298.044, 1494.48)\" x=\"298.044\" y=\"1494.48\">0.0</text>\n",
       "</g>\n",
       "<g clip-path=\"url(#clip5000)\">\n",
       "<text style=\"fill:#000000; fill-opacity:1; font-family:Arial,Helvetica Neue,Helvetica,sans-serif; font-size:48px; text-anchor:middle;\" transform=\"rotate(0, 775.128, 1494.48)\" x=\"775.128\" y=\"1494.48\">2.5</text>\n",
       "</g>\n",
       "<g clip-path=\"url(#clip5000)\">\n",
       "<text style=\"fill:#000000; fill-opacity:1; font-family:Arial,Helvetica Neue,Helvetica,sans-serif; font-size:48px; text-anchor:middle;\" transform=\"rotate(0, 1252.21, 1494.48)\" x=\"1252.21\" y=\"1494.48\">5.0</text>\n",
       "</g>\n",
       "<g clip-path=\"url(#clip5000)\">\n",
       "<text style=\"fill:#000000; fill-opacity:1; font-family:Arial,Helvetica Neue,Helvetica,sans-serif; font-size:48px; text-anchor:middle;\" transform=\"rotate(0, 1729.3, 1494.48)\" x=\"1729.3\" y=\"1494.48\">7.5</text>\n",
       "</g>\n",
       "<g clip-path=\"url(#clip5000)\">\n",
       "<text style=\"fill:#000000; fill-opacity:1; font-family:Arial,Helvetica Neue,Helvetica,sans-serif; font-size:48px; text-anchor:middle;\" transform=\"rotate(0, 2206.38, 1494.48)\" x=\"2206.38\" y=\"1494.48\">10.0</text>\n",
       "</g>\n",
       "<g clip-path=\"url(#clip5000)\">\n",
       "<text style=\"fill:#000000; fill-opacity:1; font-family:Arial,Helvetica Neue,Helvetica,sans-serif; font-size:48px; text-anchor:end;\" transform=\"rotate(0, 215.115, 1386.51)\" x=\"215.115\" y=\"1386.51\">-15</text>\n",
       "</g>\n",
       "<g clip-path=\"url(#clip5000)\">\n",
       "<text style=\"fill:#000000; fill-opacity:1; font-family:Arial,Helvetica Neue,Helvetica,sans-serif; font-size:48px; text-anchor:end;\" transform=\"rotate(0, 215.115, 959.067)\" x=\"215.115\" y=\"959.067\">-10</text>\n",
       "</g>\n",
       "<g clip-path=\"url(#clip5000)\">\n",
       "<text style=\"fill:#000000; fill-opacity:1; font-family:Arial,Helvetica Neue,Helvetica,sans-serif; font-size:48px; text-anchor:end;\" transform=\"rotate(0, 215.115, 531.621)\" x=\"215.115\" y=\"531.621\">-5</text>\n",
       "</g>\n",
       "<g clip-path=\"url(#clip5000)\">\n",
       "<text style=\"fill:#000000; fill-opacity:1; font-family:Arial,Helvetica Neue,Helvetica,sans-serif; font-size:48px; text-anchor:end;\" transform=\"rotate(0, 215.115, 104.175)\" x=\"215.115\" y=\"104.175\">0</text>\n",
       "</g>\n",
       "<g clip-path=\"url(#clip5000)\">\n",
       "<image width=\"34\" height=\"30\" xlink:href=\"data:image/png;base64,\n",
       "iVBORw0KGgoAAAANSUhEUgAAACIAAAAeCAYAAABJ/8wUAAACQUlEQVRYha1X3dWrIBCceysgXwmm\n",
       "A5ISKMEaKIGTEiiBGizBkxK0A2ow6WDuy4cXEBVjOGcf+Nl12B1kAEnUmHOOSik2TUMAFEKwbVv2\n",
       "fc8tv77vqZSiEIIA2DRN0W8XQNd1cxApJbXWNMZQKUUABEClVBFM27aJn7WWYSyMT9PEXSDGmNmh\n",
       "tHPn3By0aZpkXkpJAOy6btMvbGIXhDFmM/VxZrTWjDMxDMPCN85IsGma1vlQA4IkrLVJ0NAv+XZd\n",
       "twABgN77ZeBpmiiEWK17bfBQ+71sACBJ/EXWHo8H3u83nHP5VHXTWuNyufzJx39+foprAaQcGYYh\n",
       "qXWNBS7FVuIGSXjv5+OffydZqLWea1YLJCYrfv8vez6l+ElHCEEpZTUIkoh3CIBt2x7yLwJZ+19s\n",
       "BsjK4pw7D+SoBU7FdqSssS1OzZH2fD6TvhAC1+t1cVpq2leBKKU+D3amNPgSP05x5Jv8OMWRb/ID\n",
       "OMGRHMj9fv801HeBnCLqp0DGcWQ+dgTIOI683W58vV7/43xCrFyD4Pcqr7UgBzZPTQ3z84uuVrvE\n",
       "xz73Ke5SCLF6lU/TtMjGEdkQvlNU8bGY3dtlaa21thrImvqbJ/Pga3Igv/Zx4I+6pXeKqcaK+I1F\n",
       "dQy+RmQHbbu2dibPXja898lczqkaEFuiKUnZGuK+7+cPxmmNVXnJz3s/vwj3lNuifsHJWktjDMOL\n",
       "TSlVfCLEflJKGmMWT9IaMiedYRiotU6UtpRyl4zee2qtZ9DhZFhri+BL9g8KyNGQTYmoiAAAAABJ\n",
       "RU5ErkJggg==\n",
       "\" transform=\"translate(1263, 1572)\"/>\n",
       "</g>\n",
       "<g clip-path=\"url(#clip5000)\">\n",
       "<image width=\"30\" height=\"30\" xlink:href=\"data:image/png;base64,\n",
       "iVBORw0KGgoAAAANSUhEUgAAAB4AAAAeCAYAAAA7MK6iAAACHklEQVRIib1W27HqMAxc7twCREoQ\n",
       "HYSU4BIMJaQE15ASTAuGCjIpIUMFHpdg6GDPx7nJwPC4hJdm9scTaxXJWmlGEgBwOBzY9z2OxyNE\n",
       "BKqKxWIxw6cs50xrLQFcharSGEPnHNu2Zc6ZJPEqYIy5SXovGOcc+75/OojZP2c3zVqLqqogIkgp\n",
       "Yb/fYygJAIgI6rrGer3Gcrl8vDS3/tg5dzetMUZ673l6vyxLtm37UBYQY6SInJGGECalMOfMpmmo\n",
       "qmMpvPd3fZxdfLVuJNG2LcuyHDNwy9/Lr/MWQghjBpqmuSD/GPGAoVWttfwqMUl47y/Iv0J8Sj48\n",
       "uq8Rn6Y958wZeVc/3mqHw4FFUaBpGnyVGABWqxVTSvjzVVYAVVUhpYS/p4ebzYb7/R4pJYgIqqpC\n",
       "XdeYz+dvG48551+dJ4m+78dmvwZjDL33bxmJxphfrpzzhVbfgzGGIYSnguj7fpRS1HU9eR4/E0SM\n",
       "ccyqc46zsiyZUkIIAaqKlBJSSui6Drvd7uHaqSqMMVBVqCpEBMfjcfTVdd34bYwRGCK4FWkI4e5q\n",
       "NBWDbEJVLwT8U0Go6lgW1HVNEZn8WEIInLKvGWPOOGY5ZxZFAWstttvt5H4d1uKu6zBoQM4ZRVGc\n",
       "acHFPnY6Oay1b1tf/4eLsSUik3eul4iHBh96TUTonGOM8SNBXD303p9J6JS19SXiAW3b0lpLEWFZ\n",
       "lm8l/vo8HuwHzB674a0XBXIAAAAASUVORK5CYII=\n",
       "\" transform=\"translate(-1, 729)\"/>\n",
       "</g>\n",
       "<polygon clip-path=\"url(#clip5002)\" points=\"\n",
       "2197.02,170.54 2253.91,170.54 2253.91,86.6754 2197.02,86.6754 2197.02,170.54 \n",
       "  \" fill=\"#009af9\" fill-rule=\"evenodd\" fill-opacity=\"0.5\"/>\n",
       "<polyline clip-path=\"url(#clip5002)\" style=\"stroke:#000000; stroke-width:4; stroke-opacity:0.5; fill:none\" points=\"\n",
       "  2197.02,170.54 2253.91,170.54 2253.91,86.6754 2197.02,86.6754 2197.02,170.54 \n",
       "  \"/>\n",
       "<polygon clip-path=\"url(#clip5002)\" points=\"\n",
       "2168.94,254.405 2262.33,254.405 2262.33,170.54 2168.94,170.54 2168.94,254.405 \n",
       "  \" fill=\"#009af9\" fill-rule=\"evenodd\" fill-opacity=\"0.5\"/>\n",
       "<polyline clip-path=\"url(#clip5002)\" style=\"stroke:#000000; stroke-width:4; stroke-opacity:0.5; fill:none\" points=\"\n",
       "  2168.94,254.405 2262.33,254.405 2262.33,170.54 2168.94,170.54 2168.94,254.405 \n",
       "  \"/>\n",
       "<polygon clip-path=\"url(#clip5002)\" points=\"\n",
       "2122.14,338.27 2252.03,338.27 2252.03,254.405 2122.14,254.405 2122.14,338.27 \n",
       "  \" fill=\"#009af9\" fill-rule=\"evenodd\" fill-opacity=\"0.5\"/>\n",
       "<polyline clip-path=\"url(#clip5002)\" style=\"stroke:#000000; stroke-width:4; stroke-opacity:0.5; fill:none\" points=\"\n",
       "  2122.14,338.27 2252.03,338.27 2252.03,254.405 2122.14,254.405 2122.14,338.27 \n",
       "  \"/>\n",
       "<polygon clip-path=\"url(#clip5002)\" points=\"\n",
       "2056.61,422.135 2223.02,422.135 2223.02,338.27 2056.61,338.27 2056.61,422.135 \n",
       "  \" fill=\"#009af9\" fill-rule=\"evenodd\" fill-opacity=\"0.5\"/>\n",
       "<polyline clip-path=\"url(#clip5002)\" style=\"stroke:#000000; stroke-width:4; stroke-opacity:0.5; fill:none\" points=\"\n",
       "  2056.61,422.135 2223.02,422.135 2223.02,338.27 2056.61,338.27 2056.61,422.135 \n",
       "  \"/>\n",
       "<polygon clip-path=\"url(#clip5002)\" points=\"\n",
       "1972.37,505.999 2175.28,505.999 2175.28,422.135 1972.37,422.135 1972.37,505.999 \n",
       "  \" fill=\"#009af9\" fill-rule=\"evenodd\" fill-opacity=\"0.5\"/>\n",
       "<polyline clip-path=\"url(#clip5002)\" style=\"stroke:#000000; stroke-width:4; stroke-opacity:0.5; fill:none\" points=\"\n",
       "  1972.37,505.999 2175.28,505.999 2175.28,422.135 1972.37,422.135 1972.37,505.999 \n",
       "  \"/>\n",
       "<polygon clip-path=\"url(#clip5002)\" points=\"\n",
       "1869.41,589.864 2108.82,589.864 2108.82,505.999 1869.41,505.999 1869.41,589.864 \n",
       "  \" fill=\"#009af9\" fill-rule=\"evenodd\" fill-opacity=\"0.5\"/>\n",
       "<polyline clip-path=\"url(#clip5002)\" style=\"stroke:#000000; stroke-width:4; stroke-opacity:0.5; fill:none\" points=\"\n",
       "  1869.41,589.864 2108.82,589.864 2108.82,505.999 1869.41,505.999 1869.41,589.864 \n",
       "  \"/>\n",
       "<polygon clip-path=\"url(#clip5002)\" points=\"\n",
       "1747.72,673.729 2023.64,673.729 2023.64,589.864 1747.72,589.864 1747.72,673.729 \n",
       "  \" fill=\"#009af9\" fill-rule=\"evenodd\" fill-opacity=\"0.5\"/>\n",
       "<polyline clip-path=\"url(#clip5002)\" style=\"stroke:#000000; stroke-width:4; stroke-opacity:0.5; fill:none\" points=\"\n",
       "  1747.72,673.729 2023.64,673.729 2023.64,589.864 1747.72,589.864 1747.72,673.729 \n",
       "  \"/>\n",
       "<polygon clip-path=\"url(#clip5002)\" points=\"\n",
       "1607.31,757.594 1919.74,757.594 1919.74,673.729 1607.31,673.729 1607.31,757.594 \n",
       "  \" fill=\"#009af9\" fill-rule=\"evenodd\" fill-opacity=\"0.5\"/>\n",
       "<polyline clip-path=\"url(#clip5002)\" style=\"stroke:#000000; stroke-width:4; stroke-opacity:0.5; fill:none\" points=\"\n",
       "  1607.31,757.594 1919.74,757.594 1919.74,673.729 1607.31,673.729 1607.31,757.594 \n",
       "  \"/>\n",
       "<polygon clip-path=\"url(#clip5002)\" points=\"\n",
       "1448.19,841.459 1797.12,841.459 1797.12,757.594 1448.19,757.594 1448.19,841.459 \n",
       "  \" fill=\"#009af9\" fill-rule=\"evenodd\" fill-opacity=\"0.5\"/>\n",
       "<polyline clip-path=\"url(#clip5002)\" style=\"stroke:#000000; stroke-width:4; stroke-opacity:0.5; fill:none\" points=\"\n",
       "  1448.19,841.459 1797.12,841.459 1797.12,757.594 1448.19,757.594 1448.19,841.459 \n",
       "  \"/>\n",
       "<polygon clip-path=\"url(#clip5002)\" points=\"\n",
       "1270.34,925.324 1655.78,925.324 1655.78,841.459 1270.34,841.459 1270.34,925.324 \n",
       "  \" fill=\"#009af9\" fill-rule=\"evenodd\" fill-opacity=\"0.5\"/>\n",
       "<polyline clip-path=\"url(#clip5002)\" style=\"stroke:#000000; stroke-width:4; stroke-opacity:0.5; fill:none\" points=\"\n",
       "  1270.34,925.324 1655.78,925.324 1655.78,841.459 1270.34,841.459 1270.34,925.324 \n",
       "  \"/>\n",
       "<polygon clip-path=\"url(#clip5002)\" points=\"\n",
       "1073.77,1009.19 1495.72,1009.19 1495.72,925.324 1073.77,925.324 1073.77,1009.19 \n",
       "  \" fill=\"#009af9\" fill-rule=\"evenodd\" fill-opacity=\"0.5\"/>\n",
       "<polyline clip-path=\"url(#clip5002)\" style=\"stroke:#000000; stroke-width:4; stroke-opacity:0.5; fill:none\" points=\"\n",
       "  1073.77,1009.19 1495.72,1009.19 1495.72,925.324 1073.77,925.324 1073.77,1009.19 \n",
       "  \"/>\n",
       "<polygon clip-path=\"url(#clip5002)\" points=\"\n",
       "858.484,1093.05 1317.87,1093.05 1317.87,1009.19 858.484,1009.19 858.484,1093.05 \n",
       "  \" fill=\"#009af9\" fill-rule=\"evenodd\" fill-opacity=\"0.5\"/>\n",
       "<polyline clip-path=\"url(#clip5002)\" style=\"stroke:#000000; stroke-width:4; stroke-opacity:0.5; fill:none\" points=\"\n",
       "  858.484,1093.05 1317.87,1093.05 1317.87,1009.19 858.484,1009.19 858.484,1093.05 \n",
       "  \"/>\n",
       "<polygon clip-path=\"url(#clip5002)\" points=\"\n",
       "624.474,1176.92 1121.3,1176.92 1121.3,1093.05 624.474,1093.05 624.474,1176.92 \n",
       "  \" fill=\"#009af9\" fill-rule=\"evenodd\" fill-opacity=\"0.5\"/>\n",
       "<polyline clip-path=\"url(#clip5002)\" style=\"stroke:#000000; stroke-width:4; stroke-opacity:0.5; fill:none\" points=\"\n",
       "  624.474,1176.92 1121.3,1176.92 1121.3,1093.05 624.474,1093.05 624.474,1176.92 \n",
       "  \"/>\n",
       "<polygon clip-path=\"url(#clip5002)\" points=\"\n",
       "371.744,1260.78 906.011,1260.78 906.011,1176.92 371.744,1176.92 371.744,1260.78 \n",
       "  \" fill=\"#009af9\" fill-rule=\"evenodd\" fill-opacity=\"0.5\"/>\n",
       "<polyline clip-path=\"url(#clip5002)\" style=\"stroke:#000000; stroke-width:4; stroke-opacity:0.5; fill:none\" points=\"\n",
       "  371.744,1260.78 906.011,1260.78 906.011,1176.92 371.744,1176.92 371.744,1260.78 \n",
       "  \"/>\n",
       "<polygon clip-path=\"url(#clip5002)\" points=\"\n",
       "298.044,1344.65 672.001,1344.65 672.001,1260.78 298.044,1260.78 298.044,1344.65 \n",
       "  \" fill=\"#009af9\" fill-rule=\"evenodd\" fill-opacity=\"0.5\"/>\n",
       "<polyline clip-path=\"url(#clip5002)\" style=\"stroke:#000000; stroke-width:4; stroke-opacity:0.5; fill:none\" points=\"\n",
       "  298.044,1344.65 672.001,1344.65 672.001,1260.78 298.044,1260.78 298.044,1344.65 \n",
       "  \"/>\n",
       "<polygon clip-path=\"url(#clip5002)\" points=\"\n",
       "298.044,1401.05 419.271,1401.05 419.271,1344.65 298.044,1344.65 298.044,1401.05 \n",
       "  \" fill=\"#009af9\" fill-rule=\"evenodd\" fill-opacity=\"0.5\"/>\n",
       "<polyline clip-path=\"url(#clip5002)\" style=\"stroke:#000000; stroke-width:4; stroke-opacity:0.5; fill:none\" points=\"\n",
       "  298.044,1401.05 419.271,1401.05 419.271,1344.65 298.044,1344.65 298.044,1401.05 \n",
       "  \"/>\n",
       "</svg>\n"
      ]
     },
     "execution_count": 24,
     "metadata": {},
     "output_type": "execute_result"
    }
   ],
   "source": [
    "plot(sol, xlab=L\"x\", ylab=L\"v\", alpha=.5)"
   ]
  },
  {
   "cell_type": "code",
   "execution_count": null,
   "metadata": {},
   "outputs": [],
   "source": [
    "plot(sol, xlab=L\"x\", ylab=L\"v\", alpha=.5)"
   ]
  },
  {
   "cell_type": "code",
   "execution_count": null,
   "metadata": {},
   "outputs": [],
   "source": [
    "# just checking the flowpipe for the \"falling\" mode:"
   ]
  },
  {
   "cell_type": "code",
   "execution_count": null,
   "metadata": {},
   "outputs": [],
   "source": [
    "X0"
   ]
  },
  {
   "cell_type": "code",
   "execution_count": null,
   "metadata": {},
   "outputs": [],
   "source": [
    "# falling : x' = Ax + b, x ∈ X\n",
    "A = [0.0 1.0;\n",
    "     0.0 0.0]\n",
    "\n",
    "b = [0.0,\n",
    "    -9.81]\n",
    "\n",
    "problem = IVP(AffineContinuousSystem(A, b), X0)\n",
    "options = Options(:mode=>\"reach\", :T=>10., :plot_vars=>[1, 2])\n",
    "\n",
    "# produces box flowipe\n",
    "sol = solve(problem, options, op=BFFPSV18(:δ=>1.0));\n",
    "\n",
    "using LazySets.Approximations\n",
    "\n",
    "# produces box flowipe -- not too accurate, compare w/zonotopes \n",
    "#sol = solve(problem, options, op=BFFPSV18(:δ=>0.1));\n",
    "\n",
    "# should produce octagons -- doesn't work !\n",
    "#sol = solve(problem, options, op=BFFPSV18(:δ=>0.01, :partition=>[1:2],\n",
    "#            :block_options=>OctDirections));\n",
    "\n",
    "# use zonotope-based algorithm\n",
    "@time sol = solve(problem, options, op=GLGM06(:δ=>0.1, :max_order=>2));"
   ]
  },
  {
   "cell_type": "code",
   "execution_count": null,
   "metadata": {},
   "outputs": [],
   "source": [
    "plot([sol.Xk[i].X for i in eachindex(sol.Xk)], alpha=.5, color=:lightblue)"
   ]
  },
  {
   "cell_type": "code",
   "execution_count": null,
   "metadata": {},
   "outputs": [],
   "source": []
  }
 ],
 "metadata": {
  "@webio": {
   "lastCommId": null,
   "lastKernelId": null
  },
  "kernelspec": {
   "display_name": "Julia 1.1.0-rc2",
   "language": "julia",
   "name": "julia-1.1"
  },
  "language_info": {
   "file_extension": ".jl",
   "mimetype": "application/julia",
   "name": "julia",
   "version": "1.1.0"
  }
 },
 "nbformat": 4,
 "nbformat_minor": 2
}
