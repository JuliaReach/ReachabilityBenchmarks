{
 "cells": [
  {
   "cell_type": "markdown",
   "metadata": {},
   "source": [
    "## Model description"
   ]
  },
  {
   "cell_type": "markdown",
   "metadata": {},
   "source": [
    "This benchmark models a water tank which leaks, i.e., it has a constant outflow. The tank can be refilled from an unlimited external resource with a constant inflow that is larger than the outflow. The PLC controller triggers refilling (by switching a pump on) if a sensor indicates a low water level ($h\\leq 6$). If the water level is high ($h \\geq 12$) the controller stops refilling (switches the pump off).\n",
    "\n",
    "Adding the controller introduces two controller input variables for low and high water levels, variables for the actuator (pump) state in the plant and the controller, and a variable to store the controller mode.\n",
    "\n",
    "Furthermore, a new clock is added to model the PLC cycle time. Besides the controller we also model a user which can manually switch\n",
    "the pump on and off as far as the water level allows it. In our implementation, the user constantly toggles between the pump states on and off. We analyse the system behaviour over a global time horizon of $40$ seconds using a PLC cycle time of $2$ seconds.\n",
    "\n",
    "The dynamics of the waterlevel of the tank is defined by the following differential equations:\n",
    "\n",
    "$$\n",
    "    \\dot{h} = \\left\\{ \\begin{array}{l l} \\phantom{-}2 & \\quad \\text{if the pump is on and the tank is not full}\\\\ \\phantom{-}2 & \\quad \\text{if the tank is full}\\\\ -1.5 & \\quad \\text{if the pump is off}\\\\ \\end{array} \\right.\n",
    "$$"
   ]
  },
  {
   "cell_type": "markdown",
   "metadata": {},
   "source": [
    "This model has 12 continuous variables, 11 modes and 34 discrete jumps."
   ]
  },
  {
   "cell_type": "markdown",
   "metadata": {},
   "source": [
    "The model parameters and description are taken from the [HyPro collection of continuous and hybrid system benchmarks](https://ths.rwth-aachen.de/research/projects/hypro/benchmarks-of-continuous-and-hybrid-systems/), see the [Leaking Tank with Controller model](https://ths.rwth-aachen.de/research/projects/hypro/leaking-tank-with-controller/).\n",
    "\n",
    "---\n",
    "\n",
    "*References:*\n",
    "\n",
    "[1] J. Nellen. Analysis and synthesis of hybrid systems in engineering applications. PhD Thesis, RWTH Aachen University, 2016.\n",
    "\n",
    "[2] S. Schupp et al.. Divide and conquer: Variable set separation in hybrid systems reachability analysis. Submitted to (QAPL’17)."
   ]
  },
  {
   "cell_type": "code",
   "execution_count": 1,
   "metadata": {},
   "outputs": [
    {
     "name": "stderr",
     "output_type": "stream",
     "text": [
      "┌ Warning: Package LazySets does not have Expokit in its dependencies:\n",
      "│ - If you have LazySets checked out for development and have\n",
      "│   added Expokit as a dependency but haven't updated your primary\n",
      "│   environment's manifest file, try `Pkg.resolve()`.\n",
      "│ - Otherwise you may need to report an issue with LazySets\n",
      "│ Loading Expokit into LazySets from project dependency, future warnings for LazySets are suppressed.\n",
      "└ @ nothing nothing:840\n"
     ]
    }
   ],
   "source": [
    "using Revise # to debug\n",
    "using Reachability, HybridSystems, MathematicalSystems, LazySets, LinearAlgebra, SX\n",
    "using Plots, LaTeXStrings"
   ]
  },
  {
   "cell_type": "code",
   "execution_count": 11,
   "metadata": {},
   "outputs": [
    {
     "ename": "BoundsError",
     "evalue": "BoundsError: attempt to access 11-element Array{Array{Expr,1},1} at index [14]",
     "output_type": "error",
     "traceback": [
      "BoundsError: attempt to access 11-element Array{Array{Expr,1},1} at index [14]",
      "",
      "Stacktrace:",
      " [1] setindex!(::Array{Array{Expr,1},1}, ::Array{Expr,1}, ::Int64) at ./array.jl:767",
      " [2] parse_sxmodel!(::EzXML.Node, ::Dict{String,Any}) at /Users/forets/.julia/dev/SX/src/parse.jl:213",
      " [3] #readsxmodel#1(::Bool, ::Nothing, ::Type, ::Base.Iterators.Pairs{Union{},Union{},Tuple{},NamedTuple{(),Tuple{}}}, ::Function, ::String) at /Users/forets/.julia/dev/SX/src/io.jl:130",
      " [4] (::getfield(SX, Symbol(\"#kw##readsxmodel\")))(::NamedTuple{(:raw_dict,),Tuple{Bool}}, ::typeof(readsxmodel), ::String) at ./none:0",
      " [5] top-level scope at In[11]:2"
     ]
    }
   ],
   "source": [
    "file = \"leaking_tank_spaceEx_separateControllerAndPlant_with_timer_flat.xml\"\n",
    "H = readsxmodel(file, raw_dict=true)"
   ]
  },
  {
   "cell_type": "code",
   "execution_count": 5,
   "metadata": {},
   "outputs": [],
   "source": [
    "H"
   ]
  },
  {
   "cell_type": "code",
   "execution_count": null,
   "metadata": {},
   "outputs": [],
   "source": []
  },
  {
   "cell_type": "code",
   "execution_count": null,
   "metadata": {},
   "outputs": [],
   "source": []
  },
  {
   "cell_type": "code",
   "execution_count": null,
   "metadata": {},
   "outputs": [],
   "source": [
    "function leaking_tank(;X0=Singleton([510.0, 20.0, 20.0]),\n",
    "                      T=5.0,\n",
    "                      ε=1e-6)\n",
    "\n",
    "    # automaton structure\n",
    "    automaton = LightAutomaton(4)\n",
    "\n",
    "    # rod_1  : x' = Ax + b\n",
    "    A = [0.1 0.0 0.0; 0.0 0.0 0.0; 0.0 0.0 0.0]\n",
    "    b = [-56.0, 1.0, 1.0]\n",
    "    X = HPolyhedron([HalfSpace([-1.0, 0.0, 0.0], -510.0)]) # x >= 510\n",
    "    rod_1 = ConstrainedAffineContinuousSystem(A, b, X)\n",
    "    \n",
    "    # no_rods\n",
    "    b = [-50.0, 1.0, 1.0]\n",
    "    X = HPolyhedron([HalfSpace([1.0, 0.0, 0.0], 550.0)])   # x <= 550\n",
    "    no_rods = ConstrainedAffineContinuousSystem(A, b, X)\n",
    "\n",
    "    # rod_2\n",
    "    b = [-60.0, 1.0, 1.0]\n",
    "    X = HPolyhedron([HalfSpace([-1.0, 0.0, 0.0], -510.0)])   # x >= 510\n",
    "    rod_2 = ConstrainedAffineContinuousSystem(A, b, X)\n",
    "\n",
    "    # shut_down\n",
    "    X = Universe(2)\n",
    "    shut_down = ConstrainedContinuousIdentitySystem(3, X)\n",
    "\n",
    "    # modes\n",
    "    modes = [rod_1, no_rods, rod_2, shut_down]\n",
    "\n",
    "    add_transition!(automaton, 1, 2, 1)\n",
    "    add_transition!(automaton, 2, 1, 2)\n",
    "    add_transition!(automaton, 2, 3, 3)\n",
    "    add_transition!(automaton, 3, 2, 4)\n",
    "    add_transition!(automaton, 2, 4, 5)\n",
    "\n",
    "    # guards\n",
    "    G12 = HPolyhedron([HalfSpace([1.0, 0.0, 0.0], 510.0 + ε),\n",
    "                       HalfSpace([-1.0, 0.0, 0.0], -510.0 + ε)]) # x = 510\n",
    "\n",
    "    G21 = HPolyhedron([HalfSpace([1.0, 0.0, 0.0], 550.0 + ε),\n",
    "                       HalfSpace([-1.0, 0.0, 0.0], -550.0 + ε),  # x = 550\n",
    "                       HalfSpace([0.0, -1.0, 0.0], -20.0)])      # c1 >= 20\n",
    "\n",
    "    G23 = HPolyhedron([HalfSpace([1.0, 0.0, 0.0], 550.0 + ε),\n",
    "                       HalfSpace([-1.0, 0.0, 0.0], -550.0 + ε),  # x = 550\n",
    "                       HalfSpace([0.0, 0.0, -1.0], -20.0)])      # c2 >= 20\n",
    "\n",
    "    G32 = HPolyhedron([HalfSpace([1.0, 0.0, 0.0], 510.0 + ε),\n",
    "                       HalfSpace([-1.0, 0.0, 0.0], -510.0 + ε)]) # x = 510\n",
    "\n",
    "    G24 = HPolyhedron([HalfSpace([1.0, 0.0, 0.0], 550.0 + ε),\n",
    "                       HalfSpace([-1.0, 0.0, 0.0], -550.0 + ε),  # x = 550\n",
    "                       HalfSpace([1.0, 0.0, 0.0], 20.0),         # c1 < 20\n",
    "                       HalfSpace([0.0, 1.0, 0.0], 20.0)])        # c2 < 20\n",
    "    \n",
    "    resetmaps = [ConstrainedResetMap(2, G12, Dict(2=>0.0)), \n",
    "                 ConstrainedIdentityMap(2, G21),\n",
    "                 ConstrainedIdentityMap(2, G23),\n",
    "                 ConstrainedResetMap(2, G32, Dict(3=>0.0)),\n",
    "                 ConstrainedIdentityMap(2, G24)]\n",
    "\n",
    "    # switching\n",
    "    switchings = [AutonomousSwitching()]\n",
    "\n",
    "    ℋ = HybridSystem(automaton, modes, resetmaps, switchings)\n",
    "\n",
    "    # initial condition in \"off_off\" mode\n",
    "    initial_condition = [(1, X0)]\n",
    "\n",
    "    problem = InitialValueProblem(ℋ, initial_condition)\n",
    "\n",
    "    options = Options(:mode=>\"reach\", :T=>T, :plot_vars=>[1, 3],\n",
    "                      :project_reachset=>false)\n",
    "\n",
    "    return (problem, options)\n",
    "end"
   ]
  },
  {
   "cell_type": "markdown",
   "metadata": {},
   "source": [
    "## Reachability settings"
   ]
  },
  {
   "cell_type": "markdown",
   "metadata": {},
   "source": [
    "We consider an initial set of\n",
    "\n",
    "$$\n",
    "    h = 10 \\\\\n",
    "    \\text{low} = 1 \\\\\n",
    "    \\text{high} = 0 \\\\\n",
    "    P = P\\_{\\text{plc}} = 1 \\\\\n",
    "    P\\_{\\text{on}} = P\\_{\\text{on}}\\_{\\text{plc}} = 0\\\\\n",
    "    P\\_{\\text{off}} = P\\_{\\text{off}}\\_{\\text{plc}} = 1\\\\\n",
    "    \\text{nextSfcLoc} = 1\\\\\n",
    "    \\text{cycle_time} = 0\\\\\n",
    "    \\text{global_time} = 0    \n",
    "$$\n",
    "and the starting location `clock_switch_on_in_comm`, a time horizon $\\text{global\\_time}=40s$, a PLC cycle duration of $\\delta = 2s$, and a time step $r=0.01s$ ."
   ]
  },
  {
   "cell_type": "code",
   "execution_count": null,
   "metadata": {},
   "outputs": [],
   "source": [
    "# settings\n",
    "h = 10\n",
    "low = 1\n",
    "high = 0\n",
    "P = P_plc = 1\n",
    "P_on = P_on_plc = 0\n",
    "P_off = P_off_plc = 1\n",
    "nextSfcLoc = 1\n",
    "cycle_time = 0\n",
    "global_time = 0\n",
    "\n",
    "LeakingTank, options = leaking_tank()"
   ]
  },
  {
   "cell_type": "markdown",
   "metadata": {},
   "source": [
    "## Results"
   ]
  },
  {
   "cell_type": "code",
   "execution_count": null,
   "metadata": {},
   "outputs": [],
   "source": [
    "using Polyhedra"
   ]
  },
  {
   "cell_type": "code",
   "execution_count": null,
   "metadata": {},
   "outputs": [],
   "source": [
    "# BROKEN.. why?\n",
    "\n",
    "#=\n",
    "@time begin\n",
    "    opC = BFFPSV18(:δ=>0.1)\n",
    "    opD = LazyDiscretePost()\n",
    "    sol = solve(RodReactor, options, opC, opD)\n",
    "end;\n",
    "\n",
    "the exact support vector of an intersection is not implemented\n",
    "=#"
   ]
  },
  {
   "cell_type": "code",
   "execution_count": null,
   "metadata": {},
   "outputs": [],
   "source": [
    "# similar to approximating discrete post ... gives big overapprox error\n",
    "# with default options\n",
    "using LazySets.Approximations\n",
    "\n",
    "@time begin\n",
    "    opC = BFFPSV18(:δ=>0.1)\n",
    "    opD = ApproximatingDiscretePost()\n",
    "    sol = solve(RodReactor, options, opC, opD)\n",
    "end;"
   ]
  },
  {
   "cell_type": "code",
   "execution_count": null,
   "metadata": {},
   "outputs": [],
   "source": [
    "# similar to approximating discrete post ... gives big overapprox error\n",
    "# with default options. we try to use oct direction but it doesn't use them\n",
    "using LazySets.Approximations\n",
    "\n",
    "@time begin\n",
    "    opC = BFFPSV18(:δ=>0.1)\n",
    "    opD = LazyDiscretePost(:check_invariant_intersection=>true,\n",
    "                           :overapproximation=>OctDirections,\n",
    "                           :lazy_R⋂I=>false,\n",
    "                           :lazy_R⋂G=>false,\n",
    "                           :lazy_A⌜R⋂G⌟⋂I=>false)\n",
    "    sol = solve(RodReactor, options, opC, opD)\n",
    "end;"
   ]
  },
  {
   "cell_type": "code",
   "execution_count": null,
   "metadata": {
    "scrolled": true
   },
   "outputs": [],
   "source": [
    "# using Concrete Discrete Post\n",
    "@time begin\n",
    "    opC = BFFPSV18(:δ=>0.01)\n",
    "    opD = ConcreteDiscretePost()\n",
    "    sol = solve(RodReactor, options, opC, opD) # does it produce \n",
    "end;"
   ]
  },
  {
   "cell_type": "code",
   "execution_count": null,
   "metadata": {},
   "outputs": [],
   "source": [
    "using LazySets.Approximations: project, overapproximate"
   ]
  },
  {
   "cell_type": "code",
   "execution_count": null,
   "metadata": {},
   "outputs": [],
   "source": [
    "Xkproj = [project(sol.Xk[i].X, [1, 3], Hyperrectangle) for i in eachindex(sol.Xk)];\n",
    "plot(Xkproj, xlab=\"x\", ylab=\"c2\")"
   ]
  },
  {
   "cell_type": "code",
   "execution_count": null,
   "metadata": {},
   "outputs": [],
   "source": [
    "Xkproj = [project(sol.Xk[i].X, [1, 2], Hyperrectangle) for i in eachindex(sol.Xk)];\n",
    "plot(Xkproj, xlab=\"x\", ylab=\"c1\")"
   ]
  },
  {
   "cell_type": "code",
   "execution_count": null,
   "metadata": {},
   "outputs": [],
   "source": [
    "Xkproj = [project(sol.Xk[i].X, [2, 3], Hyperrectangle) for i in eachindex(sol.Xk)];\n",
    "plot(Xkproj, xlab=\"c1\", ylab=\"c2\")"
   ]
  }
 ],
 "metadata": {
  "@webio": {
   "lastCommId": null,
   "lastKernelId": null
  },
  "kernelspec": {
   "display_name": "Julia 1.1.0-rc2",
   "language": "julia",
   "name": "julia-1.1"
  },
  "language_info": {
   "file_extension": ".jl",
   "mimetype": "application/julia",
   "name": "julia",
   "version": "1.1.0"
  }
 },
 "nbformat": 4,
 "nbformat_minor": 2
}
