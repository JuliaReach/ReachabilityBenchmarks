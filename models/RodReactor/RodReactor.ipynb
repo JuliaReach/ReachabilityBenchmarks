{
 "cells": [
  {
   "cell_type": "markdown",
   "metadata": {},
   "source": [
    "## Model description"
   ]
  },
  {
   "cell_type": "markdown",
   "metadata": {},
   "source": [
    "This benchmark consists of a reactor tank and two independent rods. The goal is to control the coolant temperature $x$ in the tank by putting in or taking out the rods [1].\n",
    "\n",
    "The rods differ in their cooling dynamics. Two clocks, $c_1$ and $c_2$, are introduced to measure the time elapsed since the last use\n",
    "of respectively `rod1` and `rod2`."
   ]
  },
  {
   "cell_type": "markdown",
   "metadata": {},
   "source": [
    "This model has 3 continuous variables, 2 modes and 2 discrete jumps."
   ]
  },
  {
   "cell_type": "markdown",
   "metadata": {},
   "source": [
    "The syste can be represented as the following hybrid automaton:\n",
    "\n",
    "<img src=\"RodReactor.png\" alt=\"Drawing\" style=\"width: 400px;\"/>"
   ]
  },
  {
   "cell_type": "markdown",
   "metadata": {},
   "source": [
    "The model parameters and description are taken from the [HyPro collection of continuous and hybrid system benchmarks](https://ths.rwth-aachen.de/research/projects/hypro/benchmarks-of-continuous-and-hybrid-systems/), see the [Rod Reactor model](https://ths.rwth-aachen.de/research/projects/hypro/rod-reactor/).\n",
    "\n",
    "---\n",
    "\n",
    "*References:*\n",
    "\n",
    "[1] F. Vaandrager. Lecture notes: Hybrid Systems."
   ]
  },
  {
   "cell_type": "code",
   "execution_count": 1,
   "metadata": {},
   "outputs": [
    {
     "name": "stderr",
     "output_type": "stream",
     "text": [
      "┌ Warning: Package LazySets does not have Expokit in its dependencies:\n",
      "│ - If you have LazySets checked out for development and have\n",
      "│   added Expokit as a dependency but haven't updated your primary\n",
      "│   environment's manifest file, try `Pkg.resolve()`.\n",
      "│ - Otherwise you may need to report an issue with LazySets\n",
      "│ Loading Expokit into LazySets from project dependency, future warnings for LazySets are suppressed.\n",
      "└ @ nothing nothing:840\n"
     ]
    }
   ],
   "source": [
    "using Revise # to debug\n",
    "using Reachability, HybridSystems, MathematicalSystems, LazySets, LinearAlgebra\n",
    "using Plots, LaTeXStrings"
   ]
  },
  {
   "cell_type": "code",
   "execution_count": 26,
   "metadata": {},
   "outputs": [
    {
     "data": {
      "text/plain": [
       "rod_reactor (generic function with 3 methods)"
      ]
     },
     "execution_count": 26,
     "metadata": {},
     "output_type": "execute_result"
    }
   ],
   "source": [
    "function rod_reactor(;X0=Singleton([510.0, 20.0, 20.0]),\n",
    "                      T=5.0,\n",
    "                      ε=1e-6)\n",
    "\n",
    "    # automaton structure\n",
    "    automaton = LightAutomaton(4)\n",
    "\n",
    "    # rod_1  : x' = Ax + b\n",
    "    A = [0.1 0.0 0.0; 0.0 0.0 0.0; 0.0 0.0 0.0]\n",
    "    b = [-56.0, 1.0, 1.0]\n",
    "    X = HPolyhedron([HalfSpace([-1.0, 0.0, 0.0], -510.0)]) # x >= 510\n",
    "    rod_1 = ConstrainedAffineContinuousSystem(A, b, X)\n",
    "    \n",
    "    # no_rods\n",
    "    b = [-50.0, 1.0, 1.0]\n",
    "    X = HPolyhedron([HalfSpace([1.0, 0.0, 0.0], 550.0)])   # x <= 550\n",
    "    no_rods = ConstrainedAffineContinuousSystem(A, b, X)\n",
    "\n",
    "    # rod_2\n",
    "    b = [-60.0, 1.0, 1.0]\n",
    "    X = HPolyhedron([HalfSpace([-1.0, 0.0, 0.0], -510.0)])   # x >= 510\n",
    "    rod_2 = ConstrainedAffineContinuousSystem(A, b, X)\n",
    "\n",
    "    # shut_down\n",
    "    X = Universe(2)\n",
    "    shut_down = ConstrainedContinuousIdentitySystem(3, X)\n",
    "\n",
    "    # modes\n",
    "    modes = [rod_1, no_rods, rod_2, shut_down]\n",
    "\n",
    "    add_transition!(automaton, 1, 2, 1)\n",
    "    add_transition!(automaton, 2, 1, 2)\n",
    "    add_transition!(automaton, 2, 3, 3)\n",
    "    add_transition!(automaton, 3, 2, 4)\n",
    "    add_transition!(automaton, 2, 4, 5)\n",
    "\n",
    "    # guards\n",
    "    G12 = HPolyhedron([HalfSpace([1.0, 0.0, 0.0], 510.0 + ε),\n",
    "                       HalfSpace([-1.0, 0.0, 0.0], -510.0 + ε)])  # x = 510\n",
    "\n",
    "    G21 = HPolyhedron([HalfSpace([1.0, 0.0, 0.0], 550.0 + ε),\n",
    "                       HalfSpace([-1.0, 0.0, 0.0], -550.0 + ε),   # x = 550\n",
    "                       HalfSpace([0.0, -1.0, 0.0], -20.0)])       # c1 >= 20\n",
    "\n",
    "    G23 = HPolyhedron([HalfSpace([1.0, 0.0, 0.0], 550.0 + ε),\n",
    "                       HalfSpace([-1.0, 0.0, 0.0], -550.0 + ε),   # x = 550\n",
    "                       HalfSpace([0.0, 0.0, -1.0], -20.0)])       # c2 >= 20\n",
    "\n",
    "    G32 = HPolyhedron([HalfSpace([1.0, 0.0, 0.0], 510.0 + ε),\n",
    "                       HalfSpace([-1.0, 0.0, 0.0], -510.0 + ε)])  # x = 510\n",
    "\n",
    "    G24 = HPolyhedron([HalfSpace([1.0, 0.0, 0.0], 550.0 + ε),\n",
    "                       HalfSpace([-1.0, 0.0, 0.0], -550.0 + ε),  # x = 550\n",
    "                       HalfSpace([1.0, 0.0, 0.0], 20.0),         # c1 < 20\n",
    "                       HalfSpace([0.0, 1.0, 0.0], 20.0)])        # c2 < 20\n",
    "    \n",
    "    resetmaps = [ConstrainedResetMap(2, G12, Dict(2=>0.0)), \n",
    "                 ConstrainedIdentityMap(2, G21),\n",
    "                 ConstrainedIdentityMap(2, G23),\n",
    "                 ConstrainedResetMap(2, G32, Dict(3=>0.0)),\n",
    "                 ConstrainedIdentityMap(2, G24)]\n",
    "\n",
    "    # switching\n",
    "    switchings = [AutonomousSwitching()]\n",
    "\n",
    "    ℋ = HybridSystem(automaton, modes, resetmaps, switchings)\n",
    "\n",
    "    # initial condition in \"off_off\" mode\n",
    "    initial_condition = [(1, X0)]\n",
    "\n",
    "    problem = InitialValueProblem(ℋ, initial_condition)\n",
    "\n",
    "    options = Options(:mode=>\"reach\", :T=>T, :plot_vars=>[1, 3],\n",
    "                      :project_reachset=>false)\n",
    "\n",
    "    return (problem, options)\n",
    "end"
   ]
  },
  {
   "cell_type": "markdown",
   "metadata": {},
   "source": [
    "## Reachability settings"
   ]
  },
  {
   "cell_type": "markdown",
   "metadata": {},
   "source": [
    "We consider an initial set of\n",
    "\n",
    "$$\n",
    "x = 510,~c_1 = c_2 = 20.\n",
    "$$\n",
    "The initial location is the location \"No Rods\" and the time horizon $T= 50s$.\n",
    "\n",
    "The set of unreachable states are all states in location shut-down."
   ]
  },
  {
   "cell_type": "code",
   "execution_count": 27,
   "metadata": {},
   "outputs": [],
   "source": [
    "# settings\n",
    "X0 = Singleton([510.0, 20.0, 20.0])\n",
    "T = 5.0\n",
    "\n",
    "RodReactor, options = rod_reactor(X0=X0, T=T);"
   ]
  },
  {
   "cell_type": "markdown",
   "metadata": {},
   "source": [
    "## Results"
   ]
  },
  {
   "cell_type": "code",
   "execution_count": 30,
   "metadata": {},
   "outputs": [
    {
     "name": "stderr",
     "output_type": "stream",
     "text": [
      "WARNING: using Polyhedra.project in module Main conflicts with an existing identifier.\n",
      "WARNING: using Polyhedra.HalfSpace in module Main conflicts with an existing identifier.\n"
     ]
    }
   ],
   "source": [
    "using Polyhedra"
   ]
  },
  {
   "cell_type": "code",
   "execution_count": 32,
   "metadata": {
    "scrolled": true
   },
   "outputs": [
    {
     "ename": "ErrorException",
     "evalue": "the exact support vector of an intersection is not implemented",
     "output_type": "error",
     "traceback": [
      "the exact support vector of an intersection is not implemented",
      "",
      "Stacktrace:",
      " [1] error(::String) at ./error.jl:33",
      " [2] σ(::Array{Float64,1}, ::Intersection{Float64,Hyperrectangle{Float64},HPolyhedron{Float64}}) at /Users/forets/.julia/dev/LazySets/src/Intersection.jl:223",
      " [3] σ(::Array{Float64,1}, ::LazySets.ResetMap{Float64,Intersection{Float64,Hyperrectangle{Float64},HPolyhedron{Float64}}}) at /Users/forets/.julia/dev/LazySets/src/ResetMap.jl:158",
      " [4] ρ(::Array{Float64,1}, ::LazySets.ResetMap{Float64,Intersection{Float64,Hyperrectangle{Float64},HPolyhedron{Float64}}}) at /Users/forets/.julia/dev/LazySets/src/ResetMap.jl:189",
      " [5] ρ(::Array{Float64,1}, ::Intersection{Float64,HPolyhedron{Float64},LazySets.ResetMap{Float64,Intersection{Float64,Hyperrectangle{Float64},HPolyhedron{Float64}}}}) at /Users/forets/.julia/dev/LazySets/src/Intersection.jl:247",
      " [6] (::getfield(LazySets, Symbol(\"##143#144\")){Array{Float64,1}})(::Intersection{Float64,HPolyhedron{Float64},LazySets.ResetMap{Float64,Intersection{Float64,Hyperrectangle{Float64},HPolyhedron{Float64}}}}) at ./none:0",
      " [7] collect(::Base.Generator{Array{LazySet{Float64},1},getfield(LazySets, Symbol(\"##143#144\")){Array{Float64,1}}}) at ./generator.jl:47",
      " [8] ρ(::Array{Float64,1}, ::ConvexHullArray{Float64,LazySet{Float64}}) at /Users/forets/.julia/dev/LazySets/src/ConvexHull.jl:306",
      " [9] box_approximation_helper at /Users/forets/.julia/dev/LazySets/src/Approximations/box_approximations.jl:126 [inlined]",
      " [10] box_approximation(::ConvexHullArray{Float64,LazySet{Float64}}) at /Users/forets/.julia/dev/LazySets/src/Approximations/box_approximations.jl:27",
      " [11] overapproximate(::ConvexHullArray{Float64,LazySet{Float64}}, ::Type{Hyperrectangle}) at /Users/forets/.julia/dev/LazySets/src/Approximations/overapproximate.jl:84",
      " [12] cluster(::LazyDiscretePost, ::Array{ReachSet{LazySet{Float64},Float64},1}, ::Options) at /Users/forets/.julia/dev/Reachability/src/ReachSets/DiscretePost/DiscretePost.jl:75",
      " [13] postprocess(::LazyDiscretePost, ::HybridSystem{LightAutomaton{LightGraphs.SimpleGraphs.SimpleDiGraph{Int64},LightGraphs.SimpleGraphs.SimpleEdge{Int64}},AbstractContinuousSystem,AbstractMap,AutonomousSwitching}, ::Array{ReachSet{LazySet{Float64},Float64},1}, ::Options, ::Array{Tuple{Int64,ReachSet{LazySet{Float64},Float64},Int64},1}, ::Array{Array{ReachSet{LazySet{Float64},Float64},1},1}, ::Int64, ::Int64) at /Users/forets/.julia/dev/Reachability/src/ReachSets/DiscretePost/DiscretePost.jl:44",
      " [14] post(::LazyDiscretePost, ::HybridSystem{LightAutomaton{LightGraphs.SimpleGraphs.SimpleDiGraph{Int64},LightGraphs.SimpleGraphs.SimpleEdge{Int64}},AbstractContinuousSystem,AbstractMap,AutonomousSwitching}, ::Array{Tuple{Int64,ReachSet{LazySet{Float64},Float64},Int64},1}, ::Array{Array{ReachSet{LazySet{Float64},Float64},1},1}, ::Int64, ::Array{ReachSet{LazySet{Float64},Float64},1}, ::Int64, ::Int64, ::Options) at /Users/forets/.julia/dev/Reachability/src/ReachSets/DiscretePost/LazyDiscretePost.jl:185",
      " [15] solve!(::InitialValueProblem{HybridSystem{LightAutomaton{LightGraphs.SimpleGraphs.SimpleDiGraph{Int64},LightGraphs.SimpleGraphs.SimpleEdge{Int64}},AbstractContinuousSystem,AbstractMap,AutonomousSwitching},Array{Tuple{Int64,Singleton{Float64,Array{Float64,1}}},1}}, ::Options, ::BFFPSV18, ::LazyDiscretePost) at /Users/forets/.julia/dev/Reachability/src/solve.jl:205",
      " [16] solve(::InitialValueProblem{HybridSystem{LightAutomaton{LightGraphs.SimpleGraphs.SimpleDiGraph{Int64},LightGraphs.SimpleGraphs.SimpleEdge{Int64}},AbstractContinuousSystem,AbstractMap,AutonomousSwitching},Array{Tuple{Int64,Singleton{Float64,Array{Float64,1}}},1}}, ::Options, ::BFFPSV18, ::LazyDiscretePost) at /Users/forets/.julia/dev/Reachability/src/solve.jl:101",
      " [17] top-level scope at In[32]:4",
      " [18] top-level scope at util.jl:156",
      " [19] top-level scope at In[32]:1"
     ]
    }
   ],
   "source": [
    "@time begin\n",
    "    opC = BFFPSV18(:δ=>0.1)\n",
    "    opD = LazyDiscretePost()\n",
    "    sol = solve(RodReactor, options, opC, opD)\n",
    "end;"
   ]
  },
  {
   "cell_type": "code",
   "execution_count": 33,
   "metadata": {
    "scrolled": true
   },
   "outputs": [
    {
     "ename": "UndefVarError",
     "evalue": "UndefVarError: sol not defined",
     "output_type": "error",
     "traceback": [
      "UndefVarError: sol not defined",
      "",
      "Stacktrace:",
      " [1] top-level scope at In[33]:1"
     ]
    }
   ],
   "source": [
    "plot(sol)"
   ]
  },
  {
   "cell_type": "code",
   "execution_count": 12,
   "metadata": {},
   "outputs": [],
   "source": [
    "using Polyhedra, CDDLib"
   ]
  },
  {
   "cell_type": "code",
   "execution_count": 13,
   "metadata": {},
   "outputs": [
    {
     "name": "stdout",
     "output_type": "stream",
     "text": [
      "  0.035339 seconds (2.75 k allocations: 597.000 KiB)\n"
     ]
    }
   ],
   "source": [
    "@time begin\n",
    "    sol = solve(TwoTank, options,\n",
    "                BFFPSV18(:δ=>0.001),\n",
    "                ConcreteDiscretePost())\n",
    "end;"
   ]
  },
  {
   "cell_type": "code",
   "execution_count": null,
   "metadata": {},
   "outputs": [],
   "source": [
    "plot(sol, xlab=L\"x_1\", ylab=L\"x_2\")"
   ]
  }
 ],
 "metadata": {
  "@webio": {
   "lastCommId": null,
   "lastKernelId": null
  },
  "kernelspec": {
   "display_name": "Julia 1.1.0-rc2",
   "language": "julia",
   "name": "julia-1.1"
  },
  "language_info": {
   "file_extension": ".jl",
   "mimetype": "application/julia",
   "name": "julia",
   "version": "1.1.0"
  }
 },
 "nbformat": 4,
 "nbformat_minor": 2
}
