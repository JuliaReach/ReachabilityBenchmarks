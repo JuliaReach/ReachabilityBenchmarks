{
 "cells": [
  {
   "cell_type": "markdown",
   "metadata": {},
   "source": [
    "## Model description"
   ]
  },
  {
   "cell_type": "markdown",
   "metadata": {},
   "source": [
    "A spring pendulum is a physical system where a piece of mass is connected to a spring so that the resulting motion contains elmeentso f both a simple pendulum and a one-dimensional spring-mass system. The model is also called elastic pendulum or swinging spring, we refer to the wikipedia article [Elastic pendulum](https://en.wikipedia.org/wiki/Elastic_pendulum) for further reading."
   ]
  },
  {
   "cell_type": "markdown",
   "metadata": {},
   "source": [
    "Consider the planar spring-pendulum depicted in the figure below, consisting of a solid ball of mass $m$ and a spring of natural length $L$. The spring constant is $k$. The differential equations that govern the evolution [1] of the length $r(t)$ of the spring and the angle $\\theta(t)$ are considered next.\n",
    "\n",
    "A textbook application of Newton's 2nd law of motion in polar coordinates gives\n",
    "$$\n",
    "  \\left\\{ \\begin{array}{lcl} m\\cdot \\ddot{r} & = & m\\cdot r\\cdot \\dot{\\theta}^2 + m\\cdot g \\cdot \\cos(\\theta) - k\\cdot (r - L) \\\\ r^2 \\cdot \\ddot{\\theta} & = & -2\\cdot r\\cdot \\dot{r} \\cdot \\dot{\\theta} - g\\cdot r\\cdot \\sin(\\theta) \\end{array}\\right.  \n",
    "$$\n",
    "\n",
    "which can be equivalently translated to the first-order ODE as below:\n",
    "\n",
    "$$\n",
    "    \\left\\{  \\begin{array}{lcl}  \\dot{r} & = & v_r \\\\  \\dot{\\theta} & = & v_\\theta \\\\  \\dot{v}_r & = & r\\cdot v_\\theta^2 + g\\cdot \\cos(\\theta) - k\\cdot (r - L) \\\\  \\dot{v}_\\theta & = & -\\frac{(2\\cdot v_r \\cdot v_\\theta + g\\cdot \\sin(\\theta))}{r} \\\\  \\end{array}  \\right.\n",
    "$$\n",
    "\n",
    "---\n",
    "\n",
    "[1] J. D. Meiss. *Differential Dynamical Systems*, Monographs on Mathematical Modeling and Computation, Book 14, SIAM publishers, 2007."
   ]
  },
  {
   "cell_type": "markdown",
   "metadata": {},
   "source": [
    "<img src=\"spring_pendulum.png\" alt=\"Drawing\" style=\"width: 400px;\"/>"
   ]
  },
  {
   "cell_type": "markdown",
   "metadata": {},
   "source": [
    "The numerical values for the model's constants (in their respective units) are given in the following table.\n",
    "\n",
    "|Quantity|Value|\n",
    "|-----|-------|\n",
    "|g | 9.81|\n",
    "|k| 2|\n",
    "|L | 1|"
   ]
  },
  {
   "cell_type": "code",
   "execution_count": 19,
   "metadata": {},
   "outputs": [],
   "source": [
    "using Reachability, TaylorIntegration, MathematicalSystems"
   ]
  },
  {
   "cell_type": "code",
   "execution_count": 36,
   "metadata": {},
   "outputs": [],
   "source": [
    "@taylorize function spring_pendulum!(du, u, p, t)\n",
    "    local g, k, L = 9.8, 2.0, 1.0\n",
    "    du[1] = u[3]\n",
    "    du[2] = u[4]\n",
    "    du[3] = ((u[1] * (u[4]*u[4])) + g*cos(u[2])) - k*(u[1]-L)\n",
    "    du[4] = -((2*u[3]*u[4]) + g*sin(u[2]))/(u[1])\n",
    "    \n",
    "    # change of variables: r <- r - L\n",
    "    #du[3] = (((u[1]+L) * (u[4]*u[4])) + g*cos(u[2])) - k*(u[1])\n",
    "    #du[4] = -((2*u[3]*u[4]) + g*sin(u[2]))/(u[1]+L)\n",
    "    \n",
    "    return du\n",
    "end"
   ]
  },
  {
   "cell_type": "markdown",
   "metadata": {},
   "source": [
    "## Reachability settings"
   ]
  },
  {
   "cell_type": "markdown",
   "metadata": {},
   "source": [
    "The settings are taken from the [HyPro benchmarks](https://ths.rwth-aachen.de/research/projects/hypro/spring-pendulum/)."
   ]
  },
  {
   "cell_type": "markdown",
   "metadata": {},
   "source": [
    "We consider the initial set  $r \\in [1.19,1.21]$,  $\\theta\\in [0.49,0.51]$, $v_r = 0$ and  $v_{\\theta} = 0$."
   ]
  },
  {
   "cell_type": "code",
   "execution_count": 37,
   "metadata": {},
   "outputs": [],
   "source": [
    "r₀ = Interval(1.19, 1.21)\n",
    "θ₀ = Interval(0.49, 0.51)\n",
    "vr₀ = Singleton([0.0])\n",
    "vθ₀ = Singleton([0.0])\n",
    "\n",
    "X₀ = r₀ × θ₀ × vr₀ × vθ₀;"
   ]
  },
  {
   "cell_type": "code",
   "execution_count": 38,
   "metadata": {},
   "outputs": [],
   "source": [
    "S = BlackBoxContinuousSystem(spring_pendulum!, 4)\n",
    "P = InitialValueProblem(S, X₀);"
   ]
  },
  {
   "cell_type": "markdown",
   "metadata": {},
   "source": [
    "## Results"
   ]
  },
  {
   "cell_type": "code",
   "execution_count": 39,
   "metadata": {},
   "outputs": [
    {
     "ename": "BoundsError",
     "evalue": "BoundsError: attempt to access 1-element Array{HomogeneousPolynomial{Float64},1} at index [2]",
     "output_type": "error",
     "traceback": [
      "BoundsError: attempt to access 1-element Array{HomogeneousPolynomial{Float64},1} at index [2]",
      "",
      "Stacktrace:",
      " [1] getindex at ./array.jl:728 [inlined]",
      " [2] getindex at /home/mforets/.julia/packages/TaylorSeries/rTEMS/src/auxiliary.jl:158 [inlined]",
      " [3] linear_polynomial at /home/mforets/.julia/packages/TaylorSeries/rTEMS/src/auxiliary.jl:315 [inlined]",
      " [4] get_linear_coeffs(::TaylorN{Float64}) at /home/mforets/.julia/dev/LazySets/src/Approximations/overapproximate.jl:767",
      " [5] _overapproximate_vTM_zonotope!(::Array{TaylorModels.TaylorModelN{4,Float64,Float64},1}, ::Array{Float64,1}, ::Array{Float64,2}, ::Array{Float64,1}) at /home/mforets/.julia/dev/LazySets/src/Approximations/overapproximate.jl:1032",
      " [6] overapproximate(::Array{TaylorModels.TaylorModelN{4,Float64,Float64},1}, ::Type{Zonotope}) at /home/mforets/.julia/dev/LazySets/src/Approximations/overapproximate.jl:1011",
      " [7] _to_zonotope(::SubArray{Float64,1,Array{Float64,1},Tuple{UnitRange{Int64}},true}, ::SubArray{TaylorModels.TaylorModel1{TaylorN{Float64},Float64},2,Array{TaylorModels.TaylorModel1{TaylorN{Float64},Float64},2},Tuple{Base.Slice{Base.OneTo{Int64}},UnitRange{Int64}},true}, ::Int64) at /home/mforets/.julia/dev/Reachability/src/ReachSets/ContinuousPost/TMJets/post.jl:60",
      " [8] post(::TMJets, ::InitialValueProblem{BlackBoxContinuousSystem{typeof(spring_pendulum!)},CartesianProduct{Float64,CartesianProduct{Float64,CartesianProduct{Float64,Interval{Float64,IntervalArithmetic.Interval{Float64}},Interval{Float64,IntervalArithmetic.Interval{Float64}}},Singleton{Float64,Array{Float64,1}}},Singleton{Float64,Array{Float64,1}}}}, ::Options) at /home/mforets/.julia/dev/Reachability/src/ReachSets/ContinuousPost/TMJets/post.jl:126",
      " [9] #solve!#40(::TMJets, ::typeof(Reachability.solve!), ::InitialValueProblem{BlackBoxContinuousSystem{typeof(spring_pendulum!)},CartesianProduct{Float64,CartesianProduct{Float64,CartesianProduct{Float64,Interval{Float64,IntervalArithmetic.Interval{Float64}},Interval{Float64,IntervalArithmetic.Interval{Float64}}},Singleton{Float64,Array{Float64,1}}},Singleton{Float64,Array{Float64,1}}}}, ::Options) at /home/mforets/.julia/dev/Reachability/src/solve.jl:77",
      " [10] #solve#39 at ./none:0 [inlined]",
      " [11] (::getfield(Reachability, Symbol(\"#kw##solve\")))(::NamedTuple{(:op,),Tuple{TMJets}}, ::typeof(solve), ::InitialValueProblem{BlackBoxContinuousSystem{typeof(spring_pendulum!)},CartesianProduct{Float64,CartesianProduct{Float64,CartesianProduct{Float64,Interval{Float64,IntervalArithmetic.Interval{Float64}},Interval{Float64,IntervalArithmetic.Interval{Float64}}},Singleton{Float64,Array{Float64,1}}},Singleton{Float64,Array{Float64,1}}}}, ::Options) at ./none:0",
      " [12] top-level scope at In[39]:1"
     ]
    }
   ],
   "source": [
    "sol = solve(P, Options(:T=>5.0),\n",
    "            op=TMJets(Options(:max_steps=>1_000, :orderT=>8, :orderQ=>2,:output_type=>Zonotope)));"
   ]
  },
  {
   "cell_type": "code",
   "execution_count": 18,
   "metadata": {},
   "outputs": [
    {
     "data": {
      "text/plain": [
       "Plots.GRBackend()"
      ]
     },
     "execution_count": 18,
     "metadata": {},
     "output_type": "execute_result"
    }
   ],
   "source": [
    "using Plots, LaTeXStrings\n",
    "gr()"
   ]
  },
  {
   "cell_type": "code",
   "execution_count": null,
   "metadata": {},
   "outputs": [],
   "source": [
    "plot(sol, xlab=L\"x\", ylab=L\"y\", lw=0.2, color=:lightblue, lab=\"Flowpipe\")\n",
    "plot!(X₀, color=:orange, lab=\"Xo\")d"
   ]
  }
 ],
 "metadata": {
  "kernelspec": {
   "display_name": "Julia 1.2.0",
   "language": "julia",
   "name": "julia-1.2"
  },
  "language_info": {
   "file_extension": ".jl",
   "mimetype": "application/julia",
   "name": "julia",
   "version": "1.2.0"
  }
 },
 "nbformat": 4,
 "nbformat_minor": 2
}
