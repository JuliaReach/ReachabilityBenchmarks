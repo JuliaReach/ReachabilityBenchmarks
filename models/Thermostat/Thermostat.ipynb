{
 "cells": [
  {
   "cell_type": "markdown",
   "metadata": {},
   "source": [
    "## Model description"
   ]
  },
  {
   "cell_type": "markdown",
   "metadata": {},
   "source": [
    "This is system models a heater with a thermostat controller. Initially, the temperature is $\\textrm{temperature} = 20^\\circ C$ and the heater is on. The controller keeps the temperature between $16^\\circ C$ and $24^\\circ C$.  The heater is switched off if the temperature rises above $23^\\circ C$ and it is switched on at a\n",
    "temperature below $18^\\circ C$.\n",
    "\n",
    "Adding a controller to the model introduces new variables for the low and high temperature sensors in the controller, a variable for the actuator (heater) state in the plant and the controller, and a variable to store the controller mode. Additionally, we introduce a new clock for the cycle time of the PLC. The global time horizon is 10 seconds and the PLC cycle time is 0.5 seconds.\n",
    "\n",
    "The dynamics of the temperature is defined by the following differential equations:\n",
    "\n",
    "- $T'(t) = -0.1T(t) + 3$ if the heater is `on`\n",
    "- $T'(t) = -0.1T(t)$ if the heater is `off`"
   ]
  },
  {
   "cell_type": "markdown",
   "metadata": {},
   "source": [
    "This model has 8 continuous variables, 8 modes and 18 discrete jumps."
   ]
  },
  {
   "cell_type": "markdown",
   "metadata": {},
   "source": [
    "The model parameters and description are taken from the [HyPro collection of continuous and hybrid system benchmarks](https://ths.rwth-aachen.de/research/projects/hypro/benchmarks-of-continuous-and-hybrid-systems/), see the [Thermostat with controller](https://ths.rwth-aachen.de/research/projects/hypro/thermostat-with-controller/).\n",
    "\n",
    "---\n",
    "\n",
    "*References:*\n",
    "\n",
    "[1] J. Nellen. Analysis and synthesis of hybrid systems in engineering applications. PhD Thesis, RWTH Aachen University, 2016.\n",
    "\n",
    "[2] S. Schupp et al.. Divide and conquer: Variable set separation in hybrid systems reachability analysis. Submitted to (QAPL’17)."
   ]
  },
  {
   "cell_type": "code",
   "execution_count": null,
   "metadata": {},
   "outputs": [],
   "source": [
    "using Revise # to debug\n",
    "using Reachability, HybridSystems, MathematicalSystems, LazySets, LinearAlgebra, SX, SymEngine\n",
    "using Plots, LaTeXStrings"
   ]
  },
  {
   "cell_type": "code",
   "execution_count": null,
   "metadata": {},
   "outputs": [],
   "source": [
    "#=\n",
    "Gives:\n",
    "\n",
    "read 2 components, but models with more than one component are not yet implemented; try flattening the model\n",
    "\n",
    "we can possibly ignore the \"system\" components\n",
    "\n",
    "file = \"5_dim_linear_switch.xml\"\n",
    "readsxmodel(file, raw_dict=true)\n",
    "\n",
    "=#"
   ]
  },
  {
   "cell_type": "code",
   "execution_count": null,
   "metadata": {},
   "outputs": [],
   "source": [
    "# here we have manually removed the \"system\" component\n",
    "file = \"thermostat_spaceEx_separateControllerAndPlant_with_timer_flat.xml\"\n",
    "model = readsxmodel(file, raw_dict=true)"
   ]
  },
  {
   "cell_type": "code",
   "execution_count": null,
   "metadata": {},
   "outputs": [],
   "source": [
    "model[\"flows\"][1]"
   ]
  },
  {
   "cell_type": "code",
   "execution_count": null,
   "metadata": {},
   "outputs": [],
   "source": [
    "function linear_switching(; X0 = Singleton([3.1, 4.0, 0.0, 0.0, 0.0]),\n",
    "                            U = Interval(-1.0, 1.0),\n",
    "                            T = 1.0,\n",
    "                            ε = 1e-6)\n",
    "        \n",
    "    id_location = 1\n",
    "    n = 5 # number of state variables\n",
    "    m = 1 # number of input variables\n",
    "    state_vars = convert.(Basic, [fi.args[1].args[1] for fi in model[\"flows\"][id_location]])\n",
    "    input_vars = [convert(Basic, collect(keys(model[\"variables\"]))[6])] # same as convert(Basic, :u)\n",
    "\n",
    "    A, B, c = get_coeffs(model[\"flows\"][id_location], n, m, state_vars, input_vars) # new function in SX\n",
    "    X = Universe(n)\n",
    "    U = Interval(-1.0, 1.0)\n",
    "    q1 = ConstrainedLinearControlContinuousSystem(A, B, X, U)\n",
    "\n",
    "    id_location = 2\n",
    "    A, B, c = get_coeffs(model[\"flows\"][id_location], n, m, state_vars, input_vars)\n",
    "    X = Universe(n)\n",
    "    U = Interval(-1.0, 1.0)\n",
    "    q2 = ConstrainedLinearControlContinuousSystem(A, B, X, U)\n",
    "        \n",
    "    id_location = 3\n",
    "    A, B, c = get_coeffs(model[\"flows\"][id_location], n, m, state_vars, input_vars)\n",
    "    X = Universe(n)\n",
    "    U = Interval(-1.0, 1.0)\n",
    "    q3 = ConstrainedLinearControlContinuousSystem(A, B, X, U)  \n",
    "\n",
    "    id_location = 4\n",
    "    A, B, c = get_coeffs(model[\"flows\"][id_location], n, m, state_vars, input_vars) # new function in SX\n",
    "    X = Universe(n)\n",
    "    U = Interval(-1.0, 1.0)\n",
    "    q4 = ConstrainedLinearControlContinuousSystem(A, B, X, U)\n",
    "\n",
    "    id_location = 5\n",
    "    A, B, c = get_coeffs(model[\"flows\"][id_location], n, m, state_vars, input_vars) # new function in SX\n",
    "    X = Universe(n)\n",
    "    U = Interval(-1.0, 1.0)\n",
    "    q5 = ConstrainedLinearControlContinuousSystem(A, B, X, U)\n",
    "        \n",
    "\n",
    "    # automaton structure\n",
    "    automaton = LightAutomaton(5)\n",
    "\n",
    "    modes = [q1, q2, q3, q4, q5]\n",
    "\n",
    "    # transitions\n",
    "    add_transition!(automaton, 1, 2, 1)\n",
    "    add_transition!(automaton, 2, 3, 2)\n",
    "    add_transition!(automaton, 3, 4, 3)\n",
    "    add_transition!(automaton, 4, 5, 4)\n",
    "    add_transition!(automaton, 5, 1, 5)\n",
    "\n",
    "    # guards\n",
    "    G12 = HPolyhedron([HalfSpace([1.0, 0.0, 0.0, 0.0, 0.0], 3.0 + ε),\n",
    "                       HalfSpace([-1.0, 0.0, 0.0, 0.0, 0.0], -3.0 + ε)]) # x1 = 3\n",
    "\n",
    "    G23 = HPolyhedron([HalfSpace([1.0, 0.0, 0.0, 0.0, 0.0], 2.0 + ε),\n",
    "                       HalfSpace([-1.0, 0.0, 0.0, 0.0, 0.0], -2.0 + ε)]) # x1 = 2\n",
    "\n",
    "    G34 = HPolyhedron([HalfSpace([1.0, 0.0, 0.0, 0.0, 0.0], 1.0 + ε),\n",
    "                       HalfSpace([-1.0, 0.0, 0.0, 0.0, 0.0], -1.0 + ε)]) # x1 = 1\n",
    "\n",
    "    G45 = HPolyhedron([HalfSpace([1.0, 0.0, 0.0, 0.0, 0.0], 0.0 + ε),\n",
    "                       HalfSpace([-1.0, 0.0, 0.0, 0.0, 0.0], -0.0 + ε)]) # x1 = 0\n",
    "\n",
    "    G51 = HPolyhedron([HalfSpace([1.0, 0.0, 0.0, 0.0, 0.0], 1.0 + ε),\n",
    "                       HalfSpace([-1.0, 0.0, 0.0, 0.0, 0.0], -1.0 + ε)]) # x1 = 1\n",
    "\n",
    "    resetmaps = [ConstrainedIdentityMap(2, G12), \n",
    "                 ConstrainedIdentityMap(2, G23),\n",
    "                 ConstrainedIdentityMap(2, G34),\n",
    "                 ConstrainedIdentityMap(2, G45),\n",
    "                 ConstrainedIdentityMap(2, G51)];\n",
    "\n",
    "    # switching\n",
    "    switchings = [AutonomousSwitching()]\n",
    "\n",
    "    ℋ = HybridSystem(automaton, modes, resetmaps, switchings)\n",
    "\n",
    "    # initial condition in mode q1\n",
    "    initial_condition = [(1, X0)]\n",
    "\n",
    "    problem = InitialValueProblem(ℋ, initial_condition)\n",
    "\n",
    "    options = Options(:mode=>\"reach\", :T=>T, :plot_vars=>[1, 2], :project_reachset=>false)\n",
    "\n",
    "    return problem, options\n",
    "end"
   ]
  },
  {
   "cell_type": "markdown",
   "metadata": {},
   "source": [
    "## Reachability settings"
   ]
  },
  {
   "cell_type": "markdown",
   "metadata": {},
   "source": [
    "We consider an initial set of\n",
    "\n",
    "$$\n",
    "    T = 20 \\\\\n",
    "    \\text{low} = 1\\\\\n",
    "    \\text{high} = 0\\\\\n",
    "    H = H\\_{\\text{plc}} = 1\\\\\n",
    "    \\text{nextSfcLoc} = 1\\\\\n",
    "    \\text{cycle_time} = 0\\\\\n",
    "    \\text{global_time} = 0\n",
    "$$\n",
    "\n",
    "and the starting location `clock__switch_on_in_comm`, a time horizon `global_time=10s`, a PLC cycle duration of $\\delta = 0.5s$, and a time step $r=0.01s$."
   ]
  },
  {
   "cell_type": "code",
   "execution_count": null,
   "metadata": {},
   "outputs": [],
   "source": [
    "X0 = Singleton([3.1, 4.0, 0.0, 0.0, 0.0])\n",
    "U = Interval(-1.0, 1.0)\n",
    "problem, options = linear_switching(; X0=X0, U=U, T = 1.0, ε = 1e-6);"
   ]
  },
  {
   "cell_type": "markdown",
   "metadata": {},
   "source": [
    "## Results"
   ]
  },
  {
   "cell_type": "code",
   "execution_count": null,
   "metadata": {},
   "outputs": [],
   "source": [
    "using LazySets.Approximations\n",
    "using LazySets.Approximations: project, overapproximate\n",
    "\n",
    "@time begin\n",
    "    opC = BFFPSV18(:δ=>0.005)\n",
    "    opD = ApproximatingDiscretePost()\n",
    "    sol = solve(problem, options, opC, opD)\n",
    "end;"
   ]
  },
  {
   "cell_type": "code",
   "execution_count": null,
   "metadata": {},
   "outputs": [],
   "source": [
    "nsamples = length(sol.Xk)"
   ]
  },
  {
   "cell_type": "code",
   "execution_count": null,
   "metadata": {},
   "outputs": [],
   "source": [
    "Xkproj = [project(sol.Xk[i].X, [1, 2], Hyperrectangle) for i in eachindex(sol.Xk)];\n",
    "plot([Xkproj[i] for i in 1:1:220], xlab=\"x1\", ylab=\"x2\", alpha=.3)"
   ]
  },
  {
   "cell_type": "code",
   "execution_count": null,
   "metadata": {},
   "outputs": [],
   "source": [
    "Xkproj = [project(sol.Xk[i].X, [1, 3], Hyperrectangle) for i in eachindex(sol.Xk)];\n",
    "plot([Xkproj[i] for i in 1:1:220], xlab=\"x1\", ylab=\"x3\", alpha=.3)"
   ]
  },
  {
   "cell_type": "code",
   "execution_count": null,
   "metadata": {},
   "outputs": [],
   "source": [
    "Xkproj = [project(sol.Xk[i].X, [2, 3], Hyperrectangle) for i in eachindex(sol.Xk)];\n",
    "plot([Xkproj[i] for i in 1:1:220], xlab=\"x2\", ylab=\"x3\", alpha=.3)"
   ]
  },
  {
   "cell_type": "code",
   "execution_count": null,
   "metadata": {},
   "outputs": [],
   "source": []
  },
  {
   "cell_type": "code",
   "execution_count": null,
   "metadata": {},
   "outputs": [],
   "source": []
  },
  {
   "cell_type": "code",
   "execution_count": null,
   "metadata": {},
   "outputs": [],
   "source": []
  },
  {
   "cell_type": "code",
   "execution_count": null,
   "metadata": {},
   "outputs": [],
   "source": []
  },
  {
   "cell_type": "code",
   "execution_count": null,
   "metadata": {},
   "outputs": [],
   "source": []
  },
  {
   "cell_type": "code",
   "execution_count": null,
   "metadata": {},
   "outputs": [],
   "source": [
    "using Polyhedra\n",
    "\n",
    "# using Concrete Discrete Post\n",
    "@time begin\n",
    "    opC = BFFPSV18(:δ=>0.01)\n",
    "    opD = ConcreteDiscretePost()\n",
    "    sol = solve(problem, options, opC, opD) # does it produce \n",
    "end;"
   ]
  },
  {
   "cell_type": "code",
   "execution_count": null,
   "metadata": {},
   "outputs": [],
   "source": []
  },
  {
   "cell_type": "code",
   "execution_count": null,
   "metadata": {},
   "outputs": [],
   "source": [
    "# similar to approximating discrete post ... gives big overapprox error\n",
    "# with default options\n",
    "using LazySets.Approximations\n",
    "\n",
    "@time begin\n",
    "    opC = BFFPSV18(:δ=>0.1)\n",
    "    opD = ApproximatingDiscretePost()\n",
    "    sol = solve(RodReactor, options, opC, opD)\n",
    "end;"
   ]
  },
  {
   "cell_type": "code",
   "execution_count": null,
   "metadata": {},
   "outputs": [],
   "source": [
    "# similar to approximating discrete post ... gives big overapprox error\n",
    "# with default options. we try to use oct direction but it doesn't use them\n",
    "using LazySets.Approximations\n",
    "\n",
    "@time begin\n",
    "    opC = BFFPSV18(:δ=>0.1)\n",
    "    opD = LazyDiscretePost(:check_invariant_intersection=>true,\n",
    "                           :overapproximation=>OctDirections,\n",
    "                           :lazy_R⋂I=>false,\n",
    "                           :lazy_R⋂G=>false,\n",
    "                           :lazy_A⌜R⋂G⌟⋂I=>false)\n",
    "    sol = solve(RodReactor, options, opC, opD)\n",
    "end;"
   ]
  },
  {
   "cell_type": "code",
   "execution_count": null,
   "metadata": {
    "scrolled": true
   },
   "outputs": [],
   "source": [
    "# using Concrete Discrete Post\n",
    "@time begin\n",
    "    opC = BFFPSV18(:δ=>0.01)\n",
    "    opD = ConcreteDiscretePost()\n",
    "    sol = solve(RodReactor, options, opC, opD) # does it produce \n",
    "end;"
   ]
  },
  {
   "cell_type": "code",
   "execution_count": null,
   "metadata": {},
   "outputs": [],
   "source": [
    "using LazySets.Approximations: project, overapproximate"
   ]
  },
  {
   "cell_type": "code",
   "execution_count": null,
   "metadata": {},
   "outputs": [],
   "source": [
    "Xkproj = [project(sol.Xk[i].X, [1, 3], Hyperrectangle) for i in eachindex(sol.Xk)];\n",
    "plot(Xkproj, xlab=\"x\", ylab=\"c2\")"
   ]
  },
  {
   "cell_type": "code",
   "execution_count": null,
   "metadata": {},
   "outputs": [],
   "source": [
    "Xkproj = [project(sol.Xk[i].X, [1, 2], Hyperrectangle) for i in eachindex(sol.Xk)];\n",
    "plot(Xkproj, xlab=\"x\", ylab=\"c1\")"
   ]
  }
 ],
 "metadata": {
  "@webio": {
   "lastCommId": null,
   "lastKernelId": null
  },
  "kernelspec": {
   "display_name": "Julia 1.1.0-rc2",
   "language": "julia",
   "name": "julia-1.1"
  },
  "language_info": {
   "file_extension": ".jl",
   "mimetype": "application/julia",
   "name": "julia",
   "version": "1.1.0"
  }
 },
 "nbformat": 4,
 "nbformat_minor": 2
}
