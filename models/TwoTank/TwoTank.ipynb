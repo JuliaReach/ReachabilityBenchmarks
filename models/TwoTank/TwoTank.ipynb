{
 "cells": [
  {
   "cell_type": "markdown",
   "metadata": {},
   "source": [
    "## Model description"
   ]
  },
  {
   "cell_type": "markdown",
   "metadata": {},
   "source": [
    "The considered benchmark presented in the figure below consists of two tanks. The liquid in the first tank comes from two outside sources: a constant inflow source and a second source equipped with a controlled valve `valve1`, with flows $Q_0$ and $Q_1$ respectively. A drain placed at the bottom of tank 1 allows the liquid to flow into tank 2 with flow $Q_A$."
   ]
  },
  {
   "cell_type": "markdown",
   "metadata": {},
   "source": [
    "Tank 2 is itself equipped with two drains. In the first one a pump is placed to assure a constant liquid outflow $Q_B$ whereas the flow in the second one $Q_2$ is controlled by an electro-valve `valve2`. Both valves can take the states `On`/`Off`. This results consequently in four possible discrete modes for the hybrid automaton. The liquid levels in tank i is given by $x_i$."
   ]
  },
  {
   "cell_type": "markdown",
   "metadata": {},
   "source": [
    "This model has 2 continuous variables, 4 modes and 7 discrete jumps."
   ]
  },
  {
   "cell_type": "markdown",
   "metadata": {},
   "source": [
    "The syste can be represented as the following hybrid automaton:\n",
    "\n",
    "<img src=\"TwoTank.png\" alt=\"Drawing\" style=\"width: 350px;\"/>"
   ]
  },
  {
   "cell_type": "markdown",
   "metadata": {},
   "source": [
    "The model parameters and description are taken from the [HyPro collection of continuous and hybrid system benchmarks](https://ths.rwth-aachen.de/research/projects/hypro/).\n",
    "\n",
    "---\n",
    "\n",
    "*References:*\n",
    "\n",
    "[1] J. Lygeros. Lecture notes on hybrid systems. Technical Report, 2004.\n",
    "\n",
    "[2] I. A. Hiskens. Stability of limit cycles in hybrid systems. In Proceedings of the 34th Hawaii International Conference on System Sciences (HICSS’01), pages 163-328, IEEE, 2001.\n",
    "\n",
    "[3] A. Girard. Reachability of Uncertain Linear Systems Using Zonotopes. In Proceedings of the 8th International Workshop on Hybrid Systems: Computation and Control (HSCC’05), Volume 3414 of LNCS, pp 291-305, Springer, 2005."
   ]
  },
  {
   "cell_type": "code",
   "execution_count": null,
   "metadata": {},
   "outputs": [],
   "source": [
    "using Revise # to debug\n",
    "using Reachability, HybridSystems, MathematicalSystems, LazySets, LinearAlgebra"
   ]
  },
  {
   "cell_type": "code",
   "execution_count": null,
   "metadata": {},
   "outputs": [],
   "source": [
    "function two_tank(; X0 = Interval(1.5, 2.5) × Interval(1.0, 1.0),\n",
    "                    U = Interval(-0.1, 0.1),\n",
    "                    T = 5.0)\n",
    "\n",
    "    # automaton structure\n",
    "    automaton = LightAutomaton(4)\n",
    "\n",
    "    ε = 1e-5\n",
    "\n",
    "    # off_off\n",
    "    A = [-1.0 0.0; 0.0 1.0]\n",
    "    B = hcat([1.0, 1.0])\n",
    "    c = [-2.0, 0.0]\n",
    "    X = HPolyhedron([HalfSpace([-1.0, 0.0], -1.0-ε),    # x1 >= -1\n",
    "                     HalfSpace([0.0, 1.0], 1.0+ε)])   # x2 <= 1\n",
    "    off_off = ConstrainedAffineControlContinuousSystem(A, B, c, X, U)\n",
    "    \n",
    "    # on_off\n",
    "    A = [-1.0 0.0; 0.0 1.0]\n",
    "    B = hcat([1.0, 1.0])\n",
    "    c = [3.0, 0.0]\n",
    "    X = HPolyhedron([HalfSpace([0.0, 1.0], 1.0+ε)])   # x2 <= 1\n",
    "    on_off = ConstrainedAffineControlContinuousSystem(A, B, c, X, U)\n",
    "\n",
    "    # off_on\n",
    "    A = [-1.0 0.0; 1.0 -1.0]\n",
    "    B = hcat([1.0, 1.0])\n",
    "    c = [-2.0, -5.0]\n",
    "    X = HPolyhedron([HalfSpace([-1.0, 0.0], -1.0-ε),   # x1 >= -1\n",
    "                     HalfSpace([0.0, -1.0], 0.0+ε)])   # x2 >= 0\n",
    "    off_on = ConstrainedAffineControlContinuousSystem(A, B, c, X, U)\n",
    "\n",
    "    # on_on\n",
    "    A = [-1.0 0.0; 1.0 -1.0]\n",
    "    B = hcat([1.0, 1.0])\n",
    "    c = [3.0, -5.0]\n",
    "    X = HPolyhedron([HalfSpace([1.0, 0.0], 1.0+ε),     # x1 <= 1\n",
    "                     HalfSpace([0.0, -1.0], 0.0+ε)])   # x2 >= 0\n",
    "    on_on = ConstrainedAffineControlContinuousSystem(A, B, c, X, U)\n",
    "\n",
    "    # modes\n",
    "    modes = [off_off, on_off, off_on, on_on]\n",
    "\n",
    "    # transition from mode falling to mode falling (self-loop)\n",
    "    add_transition!(automaton, 1, 2, 1)\n",
    "    add_transition!(automaton, 2, 3, 2)\n",
    "    add_transition!(automaton, 3, 4, 3)\n",
    "    add_transition!(automaton, 4, 2, 4)\n",
    "    add_transition!(automaton, 4, 3, 5)\n",
    "    add_transition!(automaton, 1, 3, 6)\n",
    "    add_transition!(automaton, 3, 1, 7)\n",
    "\n",
    "    # guards\n",
    "    \n",
    "    # corner case with hyperplanes?\n",
    "    #=\n",
    "    G12 = Hyperplane([1.0, 0.0], -1.0) # x1 = -1\n",
    "    G23 = Hyperplane([0.0, 1.0], 1.0) # x2 = 1\n",
    "    G34 = Hyperplane([1.0, 0.0], -1.0) # x1 = -1\n",
    "    G42 = Hyperplane([0.0, 1.0], 0.0) # x2 = 0\n",
    "    G43 = Hyperplane([1.0, 0.0], 1.0) # x1 = 1\n",
    "    G13 = Hyperplane([0.0, 1.0], 1.0) # x2 = 1\n",
    "    G31 = Hyperplane([0.0, 1.0], 0.0) # x2 = 0\n",
    "    =#\n",
    "\n",
    "    G12 = HPolyhedron([HalfSpace([1.0, 0.0], -1.0 - ε),\n",
    "                       HalfSpace([-1.0, 0.0], 1.0 + ε)])  # x1 = -1\n",
    "\n",
    "    G23 = HPolyhedron([HalfSpace([0.0, 1.0], 1.0 + ε),\n",
    "                       HalfSpace([1.0, -1.0], -1.0 - ε)])  # x2 = 1\n",
    "\n",
    "    G34 = HPolyhedron([HalfSpace([1.0, 0.0], -1.0 - ε),\n",
    "                       HalfSpace([-1.0, 0.0], 1.0 + ε)])  # x1 = -1\n",
    "    \n",
    "    G42 = HPolyhedron([HalfSpace([0.0, 1.0], 0.0 + ε),\n",
    "                       HalfSpace([1.0, -1.0], 0.0 + ε)])  # x2 = 0\n",
    "    \n",
    "    G43 = HPolyhedron([HalfSpace([1.0, 0.0], 1.0 + ε),\n",
    "                       HalfSpace([-1.0, 0.0], -1.0 - ε)])  # x1 = 1  \n",
    "    \n",
    "    G13 = HPolyhedron([HalfSpace([0.0, 1.0], 1.0 + ε),\n",
    "                       HalfSpace([1.0, -1.0], -1.0 - ε)])  # x2 = 1\n",
    "    \n",
    "    G31 = HPolyhedron([HalfSpace([0.0, 1.0], 0.0 + ε),\n",
    "                       HalfSpace([1.0, -1.0], 0.0 + ε)])  # x2 = 0\n",
    "    \n",
    "    resetmaps = [ConstrainedIdentityMap(2, G12), \n",
    "                 ConstrainedIdentityMap(2, G23),\n",
    "                 ConstrainedIdentityMap(2, G34),\n",
    "                 ConstrainedIdentityMap(2, G42),\n",
    "                 ConstrainedIdentityMap(2, G43),\n",
    "                 ConstrainedIdentityMap(2, G13),\n",
    "                 ConstrainedIdentityMap(2, G31)]\n",
    "\n",
    "    # switching\n",
    "    switchings = [AutonomousSwitching()]\n",
    "\n",
    "    ℋ = HybridSystem(automaton, modes, resetmaps, switchings)\n",
    "\n",
    "    # initial condition in \"off_off\" mode\n",
    "    initial_condition = [(1, X0)]\n",
    "\n",
    "    problem = InitialValueProblem(ℋ, initial_condition)\n",
    "\n",
    "    options = Options(:mode=>\"reach\", :T=>T, :plot_vars=>[1, 2])\n",
    "\n",
    "    return (problem, options)\n",
    "end"
   ]
  },
  {
   "cell_type": "markdown",
   "metadata": {},
   "source": [
    "## Reachability settings"
   ]
  },
  {
   "cell_type": "markdown",
   "metadata": {},
   "source": [
    "We consider an initial set of\n",
    "\n",
    "$$\n",
    "x_1 \\in [1.5, 2.5], x_2 = 1\n",
    "$$\n",
    "and the starting location `off_off`, a time horizon $T=5s$. The suggested time step is $\\delta=0.1s$.\n",
    "\n",
    "The uncertain input is considered to be between $-0.1$ and $0.1$.\n",
    "\n",
    "The set of bad states are all states where $x_2 \\le -0.7$."
   ]
  },
  {
   "cell_type": "code",
   "execution_count": null,
   "metadata": {},
   "outputs": [],
   "source": [
    "# settings\n",
    "X0 = Interval(1.5, 2.5) × Interval(1.0, 1.0)\n",
    "U = Interval(-0.1, 0.1)\n",
    "T = 5.0\n",
    "\n",
    "TwoTank, options = two_tank(X0=X0, U=U, T=T);\n",
    "BadStates = HalfSpace([0.0, 1.0], -0.7); # x2 <= -0.7"
   ]
  },
  {
   "cell_type": "markdown",
   "metadata": {},
   "source": [
    "## Results"
   ]
  },
  {
   "cell_type": "code",
   "execution_count": null,
   "metadata": {},
   "outputs": [],
   "source": [
    "using Plots, LaTeXStrings"
   ]
  },
  {
   "cell_type": "code",
   "execution_count": null,
   "metadata": {
    "scrolled": true
   },
   "outputs": [],
   "source": [
    "@time begin\n",
    "    sol = solve(TwoTank, options, BFFPSV18(:δ=>0.001))\n",
    "end;"
   ]
  },
  {
   "cell_type": "code",
   "execution_count": null,
   "metadata": {},
   "outputs": [],
   "source": [
    "using Polyhedra, CDDLib"
   ]
  },
  {
   "cell_type": "code",
   "execution_count": null,
   "metadata": {},
   "outputs": [],
   "source": [
    "\n",
    "@time begin\n",
    "    sol = solve(TwoTank, options,\n",
    "                BFFPSV18(:δ=>0.001),\n",
    "                ConcreteDiscretePost())\n",
    "end;"
   ]
  },
  {
   "cell_type": "code",
   "execution_count": null,
   "metadata": {},
   "outputs": [],
   "source": [
    "sol.Xk[2]"
   ]
  },
  {
   "cell_type": "code",
   "execution_count": null,
   "metadata": {},
   "outputs": [],
   "source": [
    "using CDDLib\n",
    "vertices_list(sol.Xk[1].X)\n",
    "#plot([sol.Xk[i].X for i in eachindex(sol.Xk)], alpha=.5)"
   ]
  },
  {
   "cell_type": "code",
   "execution_count": null,
   "metadata": {},
   "outputs": [],
   "source": [
    "plot(sol, xlab=L\"x_1\", ylab=L\"x_2\")"
   ]
  },
  {
   "cell_type": "code",
   "execution_count": null,
   "metadata": {},
   "outputs": [],
   "source": []
  }
 ],
 "metadata": {
  "@webio": {
   "lastCommId": null,
   "lastKernelId": null
  },
  "kernelspec": {
   "display_name": "Julia 1.1.0-rc2",
   "language": "julia",
   "name": "julia-1.1"
  },
  "language_info": {
   "file_extension": ".jl",
   "mimetype": "application/julia",
   "name": "julia",
   "version": "1.1.0"
  }
 },
 "nbformat": 4,
 "nbformat_minor": 2
}
