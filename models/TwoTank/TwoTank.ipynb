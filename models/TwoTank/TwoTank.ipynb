{
 "cells": [
  {
   "cell_type": "markdown",
   "metadata": {},
   "source": [
    "## Model description"
   ]
  },
  {
   "cell_type": "markdown",
   "metadata": {},
   "source": [
    "The considered benchmark presented in the figure below consists of two tanks. The liquid in the first tank comes from two outside sources: a constant inflow source and a second source equipped with a controlled valve `valve1`, with flows $Q_0$ and $Q_1$ respectively. A drain placed at the bottom of tank 1 allows the liquid to flow into tank 2 with flow $Q_A$."
   ]
  },
  {
   "cell_type": "markdown",
   "metadata": {},
   "source": [
    "Tank 2 is itself equipped with two drains. In the first one a pump is placed to assure a constant liquid outflow $Q_B$ whereas the flow in the second one $Q_2$ is controlled by an electro-valve `valve2`. Both valves can take the states `On`/`Off`. This results consequently in four possible discrete modes for the hybrid automaton. The liquid levels in tank i is given by $x_i$."
   ]
  },
  {
   "cell_type": "markdown",
   "metadata": {},
   "source": [
    "This model has 2 continuous variables, 4 modes and 7 discrete jumps."
   ]
  },
  {
   "cell_type": "markdown",
   "metadata": {},
   "source": [
    "The syste can be represented as the following hybrid automaton:\n",
    "\n",
    "<img src=\"TwoTank.png\" alt=\"Drawing\" style=\"width: 350px;\"/>"
   ]
  },
  {
   "cell_type": "markdown",
   "metadata": {},
   "source": [
    "The model parameters and description are taken from the [HyPro collection of continuous and hybrid system benchmarks](https://ths.rwth-aachen.de/research/projects/hypro/).\n",
    "\n",
    "---\n",
    "\n",
    "*References:*\n",
    "\n",
    "[1] J. Lygeros. Lecture notes on hybrid systems. Technical Report, 2004.\n",
    "\n",
    "[2] I. A. Hiskens. Stability of limit cycles in hybrid systems. In Proceedings of the 34th Hawaii International Conference on System Sciences (HICSS’01), pages 163-328, IEEE, 2001.\n",
    "\n",
    "[3] A. Girard. Reachability of Uncertain Linear Systems Using Zonotopes. In Proceedings of the 8th International Workshop on Hybrid Systems: Computation and Control (HSCC’05), Volume 3414 of LNCS, pp 291-305, Springer, 2005."
   ]
  },
  {
   "cell_type": "code",
   "execution_count": 1,
   "metadata": {},
   "outputs": [],
   "source": [
    "using Revise # to debug\n",
    "using Reachability, HybridSystems, MathematicalSystems, LazySets, LinearAlgebra"
   ]
  },
  {
   "cell_type": "code",
   "execution_count": 27,
   "metadata": {},
   "outputs": [
    {
     "data": {
      "text/plain": [
       "two_tank (generic function with 1 method)"
      ]
     },
     "execution_count": 27,
     "metadata": {},
     "output_type": "execute_result"
    }
   ],
   "source": [
    "function two_tank(; X0 = Interval(1.5, 2.5) × Interval(1.0, 1.0),\n",
    "                    U = Interval(-0.1, 0.1),\n",
    "                    T = 5.0)\n",
    "\n",
    "    # automaton structure\n",
    "    automaton = LightAutomaton(4)\n",
    "\n",
    "    # off_off\n",
    "    A = [-1.0 0.0; 0.0 1.0]\n",
    "    B = hcat([1.0, 1.0])\n",
    "    c = [-2.0, 0.0]\n",
    "    X = HPolyhedron([HalfSpace([-1.0, 0.0], -1.0),  # x1 >= -1\n",
    "                     HalfSpace([0.0, 1.0], 1.0)])   # x2 <= 1\n",
    "    off_off = ConstrainedAffineControlContinuousSystem(A, B, c, X, U)\n",
    "    \n",
    "    # on_off\n",
    "    A = [-1.0 0.0; 0.0 1.0]\n",
    "    B = hcat([1.0, 1.0])\n",
    "    c = [3.0, 0.0]\n",
    "    X = HPolyhedron([HalfSpace([0.0, 1.0], 1.0)])   # x2 <= 1\n",
    "    on_off = ConstrainedAffineControlContinuousSystem(A, B, c, X, U)\n",
    "\n",
    "    # off_on\n",
    "    A = [-1.0 0.0; 1.0 -1.0]\n",
    "    B = hcat([1.0, 1.0])\n",
    "    c = [-2.0, -5.0]\n",
    "    X = HPolyhedron([HalfSpace([-1.0, 0.0], -1.0),   # x1 >= -1\n",
    "                     HalfSpace([0.0, -1.0], 0.0)])   # x2 >= 0\n",
    "    off_on = ConstrainedAffineControlContinuousSystem(A, B, c, X, U)\n",
    "\n",
    "    # on_on\n",
    "    A = [-1.0 0.0; 1.0 -1.0]\n",
    "    B = hcat([1.0, 1.0])\n",
    "    c = [3.0, -5.0]\n",
    "    X = HPolyhedron([HalfSpace([1.0, 0.0], 1.0),     # x1 <= 1\n",
    "                     HalfSpace([0.0, -1.0], 0.0)])   # x2 >= 0\n",
    "    on_on = ConstrainedAffineControlContinuousSystem(A, B, c, X, U)\n",
    "\n",
    "    # modes\n",
    "    modes = [off_off, on_off, off_on, on_on]\n",
    "\n",
    "    # transition from mode falling to mode falling (self-loop)\n",
    "    add_transition!(automaton, 1, 2, 1)\n",
    "    add_transition!(automaton, 2, 3, 2)\n",
    "    add_transition!(automaton, 3, 4, 3)\n",
    "    add_transition!(automaton, 4, 2, 4)\n",
    "    add_transition!(automaton, 4, 3, 5)\n",
    "    add_transition!(automaton, 1, 3, 6)\n",
    "    add_transition!(automaton, 3, 1, 7)\n",
    "\n",
    "    # guards\n",
    "    \n",
    "    # corner case with hyperplanes?\n",
    "    #=\n",
    "    G12 = Hyperplane([1.0, 0.0], -1.0) # x1 = -1\n",
    "    G23 = Hyperplane([0.0, 1.0], 1.0) # x2 = 1\n",
    "    G34 = Hyperplane([1.0, 0.0], -1.0) # x1 = -1\n",
    "    G42 = Hyperplane([0.0, 1.0], 0.0) # x2 = 0\n",
    "    G43 = Hyperplane([1.0, 0.0], 1.0) # x1 = 1\n",
    "    G13 = Hyperplane([0.0, 1.0], 1.0) # x2 = 1\n",
    "    G31 = Hyperplane([0.0, 1.0], 0.0) # x2 = 0\n",
    "    =#\n",
    "\n",
    "    ε = 1e-3\n",
    "\n",
    "    G12 = HPolyhedron([HalfSpace([1.0, 0.0], -1.0 + ε),\n",
    "                       HalfSpace([-1.0, 0.0], 1.0+ ε)])  # x1 = -1\n",
    "\n",
    "    G23 = HPolyhedron([HalfSpace([0.0, 1.0], 1.0 + ε),\n",
    "                       HalfSpace([1.0, -1.0], -1.0 + ε)])  # x2 = 1\n",
    "\n",
    "    G34 = HPolyhedron([HalfSpace([1.0, 0.0], -1.0 + ε),\n",
    "                       HalfSpace([-1.0, 0.0], 1.0 + ε)])  # x1 = -1\n",
    "    \n",
    "    G42 = HPolyhedron([HalfSpace([0.0, 1.0], 0.0 + ε),\n",
    "                       HalfSpace([1.0, -1.0], 0.0 + ε)])  # x2 = 0\n",
    "    \n",
    "    G43 = HPolyhedron([HalfSpace([1.0, 0.0], 1.0 + ε),\n",
    "                       HalfSpace([-1.0, 0.0], -1.0 + ε)])  # x1 = 1  \n",
    "    \n",
    "    G13 = HPolyhedron([HalfSpace([0.0, 1.0], 1.0 + ε),\n",
    "                       HalfSpace([1.0, -1.0], -1.0 + ε)])  # x2 = 1\n",
    "    \n",
    "    G31 = HPolyhedron([HalfSpace([0.0, 1.0], 0.0 + ε),\n",
    "                       HalfSpace([1.0, -1.0], 0.0 + ε)])  # x2 = 0\n",
    "    \n",
    "    resetmaps = [ConstrainedIdentityMap(2, G12), \n",
    "                 ConstrainedIdentityMap(2, G23),\n",
    "                 ConstrainedIdentityMap(2, G34),\n",
    "                 ConstrainedIdentityMap(2, G42),\n",
    "                 ConstrainedIdentityMap(2, G43),\n",
    "                 ConstrainedIdentityMap(2, G13),\n",
    "                 ConstrainedIdentityMap(2, G31)]\n",
    "\n",
    "    # switching\n",
    "    switchings = [AutonomousSwitching()]\n",
    "\n",
    "    ℋ = HybridSystem(automaton, modes, resetmaps, switchings)\n",
    "\n",
    "    # initial condition in \"off_off\" mode\n",
    "    initial_condition = [(1, X0)]\n",
    "\n",
    "    problem = InitialValueProblem(ℋ, initial_condition)\n",
    "\n",
    "    options = Options(:mode=>\"reach\", :T=>T, :plot_vars=>[1, 2])\n",
    "\n",
    "    return (problem, options)\n",
    "end"
   ]
  },
  {
   "cell_type": "markdown",
   "metadata": {},
   "source": [
    "## Reachability settings"
   ]
  },
  {
   "cell_type": "markdown",
   "metadata": {},
   "source": [
    "We consider an initial set of\n",
    "\n",
    "$$\n",
    "x_1 \\in [1.5, 2.5], x_2 = 1\n",
    "$$\n",
    "and the starting location `off_off`, a time horizon $T=5s$. The suggested time step is $\\delta=0.1s$.\n",
    "\n",
    "The uncertain input is considered to be between $-0.1$ and $0.1$.\n",
    "\n",
    "The set of bad states are all states where $x_2 \\le -0.7$."
   ]
  },
  {
   "cell_type": "code",
   "execution_count": 28,
   "metadata": {},
   "outputs": [],
   "source": [
    "# settings\n",
    "X0 = Interval(1.5, 2.5) × Interval(1.0, 1.0)\n",
    "U = Interval(-0.1, 0.1)\n",
    "T = 5.0\n",
    "\n",
    "TwoTank, options = two_tank(X0=X0, U=U, T=T);\n",
    "BadStates = HalfSpace([0.0, 1.0], -0.7); # x2 <= -0.7"
   ]
  },
  {
   "cell_type": "markdown",
   "metadata": {},
   "source": [
    "## Results"
   ]
  },
  {
   "cell_type": "code",
   "execution_count": 29,
   "metadata": {},
   "outputs": [],
   "source": [
    "using Plots, LaTeXStrings"
   ]
  },
  {
   "cell_type": "code",
   "execution_count": 32,
   "metadata": {
    "scrolled": true
   },
   "outputs": [
    {
     "name": "stdout",
     "output_type": "stream",
     "text": [
      "  0.028817 seconds (2.60 k allocations: 550.922 KiB)\n"
     ]
    }
   ],
   "source": [
    "@time begin\n",
    "    sol = solve(TwoTank, options, BFFPSV18(:δ=>0.5))\n",
    "end;"
   ]
  },
  {
   "cell_type": "code",
   "execution_count": 33,
   "metadata": {},
   "outputs": [
    {
     "data": {
      "image/svg+xml": [
       "<?xml version=\"1.0\" encoding=\"utf-8\"?>\n",
       "<svg xmlns=\"http://www.w3.org/2000/svg\" xmlns:xlink=\"http://www.w3.org/1999/xlink\" width=\"600\" height=\"400\" viewBox=\"0 0 2400 1600\">\n",
       "<defs>\n",
       "  <clipPath id=\"clip9700\">\n",
       "    <rect x=\"0\" y=\"0\" width=\"2400\" height=\"1600\"/>\n",
       "  </clipPath>\n",
       "</defs>\n",
       "<polygon clip-path=\"url(#clip9700)\" points=\"\n",
       "0,1600 2400,1600 2400,0 0,0 \n",
       "  \" fill=\"#ffffff\" fill-rule=\"evenodd\" fill-opacity=\"1\"/>\n",
       "<defs>\n",
       "  <clipPath id=\"clip9701\">\n",
       "    <rect x=\"480\" y=\"0\" width=\"1681\" height=\"1600\"/>\n",
       "  </clipPath>\n",
       "</defs>\n",
       "<polygon clip-path=\"url(#clip9700)\" points=\"\n",
       "251.149,1440.48 2321.26,1440.48 2321.26,47.2441 251.149,47.2441 \n",
       "  \" fill=\"#ffffff\" fill-rule=\"evenodd\" fill-opacity=\"1\"/>\n",
       "<defs>\n",
       "  <clipPath id=\"clip9702\">\n",
       "    <rect x=\"251\" y=\"47\" width=\"2071\" height=\"1394\"/>\n",
       "  </clipPath>\n",
       "</defs>\n",
       "<polyline clip-path=\"url(#clip9702)\" style=\"stroke:#000000; stroke-width:2; stroke-opacity:0.1; fill:none\" points=\"\n",
       "  570.128,1440.48 570.128,47.2441 \n",
       "  \"/>\n",
       "<polyline clip-path=\"url(#clip9702)\" style=\"stroke:#000000; stroke-width:2; stroke-opacity:0.1; fill:none\" points=\"\n",
       "  960.715,1440.48 960.715,47.2441 \n",
       "  \"/>\n",
       "<polyline clip-path=\"url(#clip9702)\" style=\"stroke:#000000; stroke-width:2; stroke-opacity:0.1; fill:none\" points=\"\n",
       "  1351.3,1440.48 1351.3,47.2441 \n",
       "  \"/>\n",
       "<polyline clip-path=\"url(#clip9702)\" style=\"stroke:#000000; stroke-width:2; stroke-opacity:0.1; fill:none\" points=\"\n",
       "  1741.89,1440.48 1741.89,47.2441 \n",
       "  \"/>\n",
       "<polyline clip-path=\"url(#clip9702)\" style=\"stroke:#000000; stroke-width:2; stroke-opacity:0.1; fill:none\" points=\"\n",
       "  2132.48,1440.48 2132.48,47.2441 \n",
       "  \"/>\n",
       "<polyline clip-path=\"url(#clip9702)\" style=\"stroke:#000000; stroke-width:2; stroke-opacity:0.1; fill:none\" points=\"\n",
       "  251.149,1401.05 2321.26,1401.05 \n",
       "  \"/>\n",
       "<polyline clip-path=\"url(#clip9702)\" style=\"stroke:#000000; stroke-width:2; stroke-opacity:0.1; fill:none\" points=\"\n",
       "  251.149,1072.46 2321.26,1072.46 \n",
       "  \"/>\n",
       "<polyline clip-path=\"url(#clip9702)\" style=\"stroke:#000000; stroke-width:2; stroke-opacity:0.1; fill:none\" points=\"\n",
       "  251.149,743.863 2321.26,743.863 \n",
       "  \"/>\n",
       "<polyline clip-path=\"url(#clip9702)\" style=\"stroke:#000000; stroke-width:2; stroke-opacity:0.1; fill:none\" points=\"\n",
       "  251.149,415.269 2321.26,415.269 \n",
       "  \"/>\n",
       "<polyline clip-path=\"url(#clip9702)\" style=\"stroke:#000000; stroke-width:2; stroke-opacity:0.1; fill:none\" points=\"\n",
       "  251.149,86.6754 2321.26,86.6754 \n",
       "  \"/>\n",
       "<polyline clip-path=\"url(#clip9700)\" style=\"stroke:#000000; stroke-width:4; stroke-opacity:1; fill:none\" points=\"\n",
       "  251.149,1440.48 2321.26,1440.48 \n",
       "  \"/>\n",
       "<polyline clip-path=\"url(#clip9700)\" style=\"stroke:#000000; stroke-width:4; stroke-opacity:1; fill:none\" points=\"\n",
       "  251.149,1440.48 251.149,47.2441 \n",
       "  \"/>\n",
       "<polyline clip-path=\"url(#clip9700)\" style=\"stroke:#000000; stroke-width:4; stroke-opacity:1; fill:none\" points=\"\n",
       "  570.128,1440.48 570.128,1419.58 \n",
       "  \"/>\n",
       "<polyline clip-path=\"url(#clip9700)\" style=\"stroke:#000000; stroke-width:4; stroke-opacity:1; fill:none\" points=\"\n",
       "  960.715,1440.48 960.715,1419.58 \n",
       "  \"/>\n",
       "<polyline clip-path=\"url(#clip9700)\" style=\"stroke:#000000; stroke-width:4; stroke-opacity:1; fill:none\" points=\"\n",
       "  1351.3,1440.48 1351.3,1419.58 \n",
       "  \"/>\n",
       "<polyline clip-path=\"url(#clip9700)\" style=\"stroke:#000000; stroke-width:4; stroke-opacity:1; fill:none\" points=\"\n",
       "  1741.89,1440.48 1741.89,1419.58 \n",
       "  \"/>\n",
       "<polyline clip-path=\"url(#clip9700)\" style=\"stroke:#000000; stroke-width:4; stroke-opacity:1; fill:none\" points=\"\n",
       "  2132.48,1440.48 2132.48,1419.58 \n",
       "  \"/>\n",
       "<polyline clip-path=\"url(#clip9700)\" style=\"stroke:#000000; stroke-width:4; stroke-opacity:1; fill:none\" points=\"\n",
       "  251.149,1401.05 282.2,1401.05 \n",
       "  \"/>\n",
       "<polyline clip-path=\"url(#clip9700)\" style=\"stroke:#000000; stroke-width:4; stroke-opacity:1; fill:none\" points=\"\n",
       "  251.149,1072.46 282.2,1072.46 \n",
       "  \"/>\n",
       "<polyline clip-path=\"url(#clip9700)\" style=\"stroke:#000000; stroke-width:4; stroke-opacity:1; fill:none\" points=\"\n",
       "  251.149,743.863 282.2,743.863 \n",
       "  \"/>\n",
       "<polyline clip-path=\"url(#clip9700)\" style=\"stroke:#000000; stroke-width:4; stroke-opacity:1; fill:none\" points=\"\n",
       "  251.149,415.269 282.2,415.269 \n",
       "  \"/>\n",
       "<polyline clip-path=\"url(#clip9700)\" style=\"stroke:#000000; stroke-width:4; stroke-opacity:1; fill:none\" points=\"\n",
       "  251.149,86.6754 282.2,86.6754 \n",
       "  \"/>\n",
       "<g clip-path=\"url(#clip9700)\">\n",
       "<text style=\"fill:#000000; fill-opacity:1; font-family:Arial,Helvetica Neue,Helvetica,sans-serif; font-size:48px; text-anchor:middle;\" transform=\"rotate(0, 570.128, 1494.48)\" x=\"570.128\" y=\"1494.48\">1.2</text>\n",
       "</g>\n",
       "<g clip-path=\"url(#clip9700)\">\n",
       "<text style=\"fill:#000000; fill-opacity:1; font-family:Arial,Helvetica Neue,Helvetica,sans-serif; font-size:48px; text-anchor:middle;\" transform=\"rotate(0, 960.715, 1494.48)\" x=\"960.715\" y=\"1494.48\">1.5</text>\n",
       "</g>\n",
       "<g clip-path=\"url(#clip9700)\">\n",
       "<text style=\"fill:#000000; fill-opacity:1; font-family:Arial,Helvetica Neue,Helvetica,sans-serif; font-size:48px; text-anchor:middle;\" transform=\"rotate(0, 1351.3, 1494.48)\" x=\"1351.3\" y=\"1494.48\">1.8</text>\n",
       "</g>\n",
       "<g clip-path=\"url(#clip9700)\">\n",
       "<text style=\"fill:#000000; fill-opacity:1; font-family:Arial,Helvetica Neue,Helvetica,sans-serif; font-size:48px; text-anchor:middle;\" transform=\"rotate(0, 1741.89, 1494.48)\" x=\"1741.89\" y=\"1494.48\">2.1</text>\n",
       "</g>\n",
       "<g clip-path=\"url(#clip9700)\">\n",
       "<text style=\"fill:#000000; fill-opacity:1; font-family:Arial,Helvetica Neue,Helvetica,sans-serif; font-size:48px; text-anchor:middle;\" transform=\"rotate(0, 2132.48, 1494.48)\" x=\"2132.48\" y=\"1494.48\">2.4</text>\n",
       "</g>\n",
       "<g clip-path=\"url(#clip9700)\">\n",
       "<text style=\"fill:#000000; fill-opacity:1; font-family:Arial,Helvetica Neue,Helvetica,sans-serif; font-size:48px; text-anchor:end;\" transform=\"rotate(0, 227.149, 1418.55)\" x=\"227.149\" y=\"1418.55\">1.00</text>\n",
       "</g>\n",
       "<g clip-path=\"url(#clip9700)\">\n",
       "<text style=\"fill:#000000; fill-opacity:1; font-family:Arial,Helvetica Neue,Helvetica,sans-serif; font-size:48px; text-anchor:end;\" transform=\"rotate(0, 227.149, 1089.96)\" x=\"227.149\" y=\"1089.96\">1.25</text>\n",
       "</g>\n",
       "<g clip-path=\"url(#clip9700)\">\n",
       "<text style=\"fill:#000000; fill-opacity:1; font-family:Arial,Helvetica Neue,Helvetica,sans-serif; font-size:48px; text-anchor:end;\" transform=\"rotate(0, 227.149, 761.363)\" x=\"227.149\" y=\"761.363\">1.50</text>\n",
       "</g>\n",
       "<g clip-path=\"url(#clip9700)\">\n",
       "<text style=\"fill:#000000; fill-opacity:1; font-family:Arial,Helvetica Neue,Helvetica,sans-serif; font-size:48px; text-anchor:end;\" transform=\"rotate(0, 227.149, 432.769)\" x=\"227.149\" y=\"432.769\">1.75</text>\n",
       "</g>\n",
       "<g clip-path=\"url(#clip9700)\">\n",
       "<text style=\"fill:#000000; fill-opacity:1; font-family:Arial,Helvetica Neue,Helvetica,sans-serif; font-size:48px; text-anchor:end;\" transform=\"rotate(0, 227.149, 104.175)\" x=\"227.149\" y=\"104.175\">2.00</text>\n",
       "</g>\n",
       "<g clip-path=\"url(#clip9700)\">\n",
       "<image width=\"58\" height=\"39\" xlink:href=\"data:image/png;base64,\n",
       "iVBORw0KGgoAAAANSUhEUgAAADoAAAAnCAYAAABe81ttAAADT0lEQVRoge1Z23GkMBAcXBeA2BCw\n",
       "I9BuCAqBGOQMVA5BOALWIbCOgHIIQAQsIQAZ9H3cwfEQz2W5s89dNR9ICE1LM3o0BIDmmO/7EELA\n",
       "cRwQERhjcF0XYRhirF0YhhBCgDEGIoLjOLPabW2TLwRBUDvJOYeUEkopCCFARCAiCCGMTruu22qn\n",
       "tUZVVpXneb4L4dFKpVTtkGkGfN+vnXYcp1XPOQcRIQiC0XZDg7Qb0YqkUmrUkebMSinRnMkoinpt\n",
       "mzNa2R6zaiysRnyKJADSWrecrp5NbYMg6JEkIqRpuj/RPM/BGJsdUkPOm2bJNJtEdHeSAOiBOnh5\n",
       "eaGyLMn3/W7VbEgpybZtq1t+OByM7+6CJusoilq5NseqXG6aKTcBUJqm9fa0tJ9NQ1dKuThnmosR\n",
       "/d5fp9rskZOjRBlj4JwvcqI5Q0QE13V3JxGGIXzfH+239TC0X45+oBO2Ux1uaXmetw4gQykDgH40\n",
       "8zWO494CMoY4jtEtE0Is+cQiXK9XZFlGSZJQEASUJMnstj+mXxnGx8dH65kxRo+Pj4sGaw4sy+oN\n",
       "KOechBA9H4awKdF7zaaUkhhjdDgciHNOp9OJbNu2PM/DlyJ6Pp9vjpLegWEu9s7PW7Ga6F75uRU2\n",
       "I3o6nW525p7YjOi/HLZEK4nemp9xHON4PKIoit537oVVRE1L+vF4nJ2fWmtKksR4w7kXekSv1+vk\n",
       "KN8atu/v77uHek3U8zxYloWnpyeybRum8CQiKoqit0k7jjO7Q8/zQESklFrn8VoAbbGqsiGFwfSu\n",
       "1nr2QX6JejFlXRln7FD/QPRLVegiz3PjwLy+vvbKGGOzBvX5+Rm3qhdr8VAUBcqy7FWYcuh8PiPL\n",
       "MlJKtchlWTbZ0eVywdvbGyml/s7BwnSnNF2+0zRt1TXDZkpVqAS0rS/lS0KXgD8SCg3IlGEY1oSa\n",
       "Mkjz0mtql6ZprejfQ3lYTLRL1nVdaK2hlEKluAshjBJmsx3nHEqp3i+LJYvV3YkCv1RAKWVLqeOc\n",
       "T8ojaZpCSlkPSrWyaq3vqsKvJvrZbPH28j/gm+hXwzfRr4ZPTTSKotbzmPRpAbtd8lfjcrmgIlWW\n",
       "JeV5TkmSGM/Yle5L9OeyIYT4HPto94/dUlNK4SdQzt/d7hCpWgAAAABJRU5ErkJggg==\n",
       "\" transform=\"translate(1257, 1563)\"/>\n",
       "</g>\n",
       "<g clip-path=\"url(#clip9700)\">\n",
       "<image width=\"39\" height=\"59\" xlink:href=\"data:image/png;base64,\n",
       "iVBORw0KGgoAAAANSUhEUgAAACcAAAA7CAYAAAD4t5PVAAADu0lEQVRoge1Z7W3jMAxlDzeA0hHU\n",
       "TqBmBLUTaAaNoBk0gpERPIKbEYROYHsEpxu8+9HK8UciS7Ldux8ngEBilOwzxY9H5gEA5ZymaXA6\n",
       "neh8PlPbtkRE9Pj4SFJKMsbQ09PTw5L+29sbcc5JCEHH45E45/Ty8nLVA5As1loQUVCMMQjZ6LoO\n",
       "Ukowxma6nHNIKdOBKaUWgQ3/SV3XQZAAqK5rGGPmNrb22FQYY1EAv8NrpPsQG3NN0+D5+Xn0jDFG\n",
       "x+ORhBBERNS2LX18fPQxOPy7tm3pcDgE4/BwOODz8/P6INZrWuuRN8qyvOsN59xXzAy8IIRY9B7n\n",
       "PO9ah3HUdV3UNVVVNQp4pVRQLwucc65XiI2faVZ6fWvtXf0scEVRgIigtU4Cdi8sqqq6aScLnE/z\n",
       "e0ZTATLGboZGFjhvNDbWYmzdSpBVnlsLzIsv5NMEyQLni29qMsQAHLa5Vdkaqm054rO4KApkgwNA\n",
       "jDFIKTcFNwRYVRWywfmrnWasMQZKqVVe9exkxlBSjHDOR2VgylD89eSIEGIdK/Gx53vr9E3XXvsM\n",
       "YKoB59xNgjjNvBzpug4jgLmGrLWjABZCbFKkhwCj+VzoXC4XLHG1HJubgNvr/PrbAELnP7jcMwJ3\n",
       "uVzQNM2/E4Q+facDyRrWu5Xcbx0ZALeocyNwVVUFh+IUY/4lpZSrKT0A6pu3H2KmkkIwnXMYkgEp\n",
       "5SqCSpzzni5PWQbnPNuwtbbvwbk9l2gyS5ZlCaUUtNab0HI/0CwN1DfBMcZ2z8yyLLMAkpQyao+x\n",
       "FcDQxD8D57N16+HllvhaGltyCLgmgnNuV4B1XSd5r//ga5QxZhPSGPJeLJ0ffRmWEq31Lp40xoAx\n",
       "lg4OmK9WGWNQSqEoik1KS8pqY/RluKa6J2vBCiGiq0P/YTZtR4rfBFhrF8PAey22rj4AoNfXV5zP\n",
       "55Xk63qklMQ5J855v6w+nU7kl9F1XS/+iEJE9Pv9/b0HJqXsDRMROef67fh0Qx46oRfVWkcBI6Ix\n",
       "K1lys3MO1toZMY2V5Pa1ZnsUC5YxltS2enC0wRphCWw2ZeKc78JKuq5DURT9ykIIkVx6foSVeJZ9\n",
       "b4t+F5xX3ILzh8Q3/ZT4JuBrpfoTnM7Ts9glIwFXIrhVYoQkq3351rI3wOzG7xXXjnTA9WdNIcTo\n",
       "hT3rSQYHfGWWH+nWTGDT1ay/SqVU9Mh582HXdRjSJyFEUjb7zJxKKitZvBqtNXKyOdTOYhn2LkE/\n",
       "jK2ppHSj3cAB4/hNBQZ8k829T+62/Q8w+6nkYw3/qAAAAABJRU5ErkJggg==\n",
       "\" transform=\"translate(69, 714)\"/>\n",
       "</g>\n",
       "<polygon clip-path=\"url(#clip9702)\" points=\"\n",
       "309.737,1401.05 2262.67,1401.05 309.737,1401.05 \n",
       "  \" fill=\"#009af9\" fill-rule=\"evenodd\" fill-opacity=\"1\"/>\n",
       "<polyline clip-path=\"url(#clip9702)\" style=\"stroke:#000000; stroke-width:4; stroke-opacity:1; fill:none\" points=\"\n",
       "  309.737,1401.05 2262.67,1401.05 309.737,1401.05 \n",
       "  \"/>\n",
       "</svg>\n"
      ]
     },
     "execution_count": 33,
     "metadata": {},
     "output_type": "execute_result"
    }
   ],
   "source": [
    "plot(sol, xlab=L\"x_1\", ylab=L\"x_2\")"
   ]
  },
  {
   "cell_type": "code",
   "execution_count": null,
   "metadata": {},
   "outputs": [],
   "source": []
  }
 ],
 "metadata": {
  "@webio": {
   "lastCommId": null,
   "lastKernelId": null
  },
  "kernelspec": {
   "display_name": "Julia 1.1.0-rc2",
   "language": "julia",
   "name": "julia-1.1"
  },
  "language_info": {
   "file_extension": ".jl",
   "mimetype": "application/julia",
   "name": "julia",
   "version": "1.1.0"
  }
 },
 "nbformat": 4,
 "nbformat_minor": 2
}
