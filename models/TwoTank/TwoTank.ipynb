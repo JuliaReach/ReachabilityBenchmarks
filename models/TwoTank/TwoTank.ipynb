{
 "cells": [
  {
   "cell_type": "markdown",
   "metadata": {},
   "source": [
    "## Model description"
   ]
  },
  {
   "cell_type": "markdown",
   "metadata": {},
   "source": [
    "The considered benchmark presented in the figure below consists of two tanks. The liquid in the first tank comes from two outside sources: a constant inflow source and a second source equipped with a controlled valve `valve1`, with flows $Q_0$ and $Q_1$ respectively. A drain placed at the bottom of tank 1 allows the liquid to flow into tank 2 with flow $Q_A$."
   ]
  },
  {
   "cell_type": "markdown",
   "metadata": {},
   "source": [
    "Tank 2 is itself equipped with two drains. In the first one a pump is placed to assure a constant liquid outflow $Q_B$ whereas the flow in the second one $Q_2$ is controlled by an electro-valve `valve2`. Both valves can take the states `On`/`Off`. This results consequently in four possible discrete modes for the hybrid automaton. The liquid levels in tank i is given by $x_i$."
   ]
  },
  {
   "cell_type": "markdown",
   "metadata": {},
   "source": [
    "This model has 2 continuous variables, 4 modes and 7 discrete jumps."
   ]
  },
  {
   "cell_type": "markdown",
   "metadata": {},
   "source": [
    "The system can be represented as the following hybrid automaton:\n",
    "\n",
    "<img src=\"TwoTank.png\" alt=\"Drawing\" style=\"width: 350px;\"/>"
   ]
  },
  {
   "cell_type": "markdown",
   "metadata": {},
   "source": [
    "The model parameters and description are taken from the [HyPro collection of continuous and hybrid system benchmarks](https://ths.rwth-aachen.de/research/projects/hypro/benchmarks-of-continuous-and-hybrid-systems/).\n",
    "\n",
    "---\n",
    "\n",
    "*References:*\n",
    "\n",
    "[1] J. Lygeros. Lecture notes on hybrid systems. Technical Report, 2004.\n",
    "\n",
    "[2] I. A. Hiskens. Stability of limit cycles in hybrid systems. In Proceedings of the 34th Hawaii International Conference on System Sciences (HICSS’01), pages 163-328, IEEE, 2001.\n",
    "\n",
    "[3] A. Girard. Reachability of Uncertain Linear Systems Using Zonotopes. In Proceedings of the 8th International Workshop on Hybrid Systems: Computation and Control (HSCC’05), Volume 3414 of LNCS, pp 291-305, Springer, 2005."
   ]
  },
  {
   "cell_type": "code",
   "execution_count": 3,
   "metadata": {},
   "outputs": [
    {
     "name": "stderr",
     "output_type": "stream",
     "text": [
      "┌ Warning: Package LazySets does not have Expokit in its dependencies:\n",
      "│ - If you have LazySets checked out for development and have\n",
      "│   added Expokit as a dependency but haven't updated your primary\n",
      "│   environment's manifest file, try `Pkg.resolve()`.\n",
      "│ - Otherwise you may need to report an issue with LazySets\n",
      "│ Loading Expokit into LazySets from project dependency, future warnings for LazySets are suppressed.\n",
      "└ @ nothing nothing:840\n",
      "┌ Info: Recompiling stale cache file /Users/forets/.julia/compiled/v1.1/Reachability/CHV4V.ji for Reachability [774a0091-654f-5c65-bbdc-ad5b67b45832]\n",
      "└ @ Base loading.jl:1184\n",
      "WARNING: using TaylorSeries.update! in module ReachSets conflicts with an existing identifier.\n"
     ]
    }
   ],
   "source": [
    "using Revise # to debug\n",
    "using Reachability, HybridSystems, MathematicalSystems, LazySets, LinearAlgebra"
   ]
  },
  {
   "cell_type": "code",
   "execution_count": 13,
   "metadata": {},
   "outputs": [
    {
     "data": {
      "text/plain": [
       "two_tank (generic function with 1 method)"
      ]
     },
     "execution_count": 13,
     "metadata": {},
     "output_type": "execute_result"
    }
   ],
   "source": [
    "function two_tank(; X0 = Interval(1.5, 2.5) × Interval(1.0, 1.0),\n",
    "                    U = Interval(-0.1, 0.1),\n",
    "                    T = 5.0,\n",
    "                    ε = 1e-5)\n",
    "\n",
    "    # automaton structure\n",
    "    automaton = LightAutomaton(4)\n",
    "\n",
    "    # off_off\n",
    "    A = [-1.0 0.0; 1.0 0.0]\n",
    "    B = hcat([1.0, 1.0])\n",
    "    c = [-2.0, 0.0]\n",
    "    X = HPolyhedron([HalfSpace([-1.0, 0.0], -1.0),  # x1 >= -1\n",
    "                     HalfSpace([0.0, 1.0], 1.0)])   # x2 <= 1\n",
    "    off_off = ConstrainedAffineControlContinuousSystem(A, B, c, X, U)\n",
    "    \n",
    "    # on_off\n",
    "    A = [-1.0 0.0; 1.0 0.0]\n",
    "    B = hcat([1.0, 1.0])\n",
    "    c = [3.0, 0.0]\n",
    "    X = HPolyhedron([HalfSpace([0.0, 1.0], 1.0)])   # x2 <= 1\n",
    "    on_off = ConstrainedAffineControlContinuousSystem(A, B, c, X, U)\n",
    "\n",
    "    # off_on\n",
    "    A = [-1.0 0.0; 1.0 -1.0]\n",
    "    B = hcat([1.0, 1.0])\n",
    "    c = [-2.0, -5.0]\n",
    "    X = HPolyhedron([HalfSpace([-1.0, 0.0], -1.0),   # x1 >= -1\n",
    "                     HalfSpace([0.0, -1.0], 0.0)])   # x2 >= 0\n",
    "    off_on = ConstrainedAffineControlContinuousSystem(A, B, c, X, U)\n",
    "\n",
    "    # on_on\n",
    "    A = [-1.0 0.0; 1.0 -1.0]\n",
    "    B = hcat([1.0, 1.0])\n",
    "    c = [3.0, -5.0]\n",
    "    X = HPolyhedron([HalfSpace([1.0, 0.0], 1.0),     # x1 <= 1\n",
    "                     HalfSpace([0.0, -1.0], 0.0)])   # x2 >= 0\n",
    "    on_on = ConstrainedAffineControlContinuousSystem(A, B, c, X, U)\n",
    "\n",
    "    # modes\n",
    "    modes = [off_off, on_off, off_on, on_on]\n",
    "\n",
    "    # transitions\n",
    "    add_transition!(automaton, 1, 2, 1)\n",
    "    add_transition!(automaton, 2, 3, 2)\n",
    "    add_transition!(automaton, 3, 4, 3)\n",
    "    add_transition!(automaton, 4, 2, 4)\n",
    "    add_transition!(automaton, 4, 3, 5)\n",
    "    add_transition!(automaton, 1, 3, 6)\n",
    "    add_transition!(automaton, 3, 1, 7)\n",
    "\n",
    "    # guards\n",
    "    \n",
    "    # corner case with hyperplanes?\n",
    "    #=\n",
    "    G12 = Hyperplane([1.0, 0.0], -1.0) # x1 = -1\n",
    "    G23 = Hyperplane([0.0, 1.0], 1.0) # x2 = 1\n",
    "    G34 = Hyperplane([1.0, 0.0], -1.0) # x1 = -1\n",
    "    G42 = Hyperplane([0.0, 1.0], 0.0) # x2 = 0\n",
    "    G43 = Hyperplane([1.0, 0.0], 1.0) # x1 = 1\n",
    "    G13 = Hyperplane([0.0, 1.0], 1.0) # x2 = 1\n",
    "    G31 = Hyperplane([0.0, 1.0], 0.0) # x2 = 0\n",
    "    =#\n",
    "\n",
    "    G12 = HPolyhedron([HalfSpace([1.0, 0.0], -1.0 + ε),\n",
    "                       HalfSpace([-1.0, 0.0], 1.0 + ε)])  # x1 = -1\n",
    "\n",
    "    G23 = HPolyhedron([HalfSpace([0.0, 1.0], 1.0 + ε),\n",
    "                       HalfSpace([1.0, -1.0], -1.0 + ε)])  # x2 = 1\n",
    "\n",
    "    G34 = HPolyhedron([HalfSpace([1.0, 0.0], -1.0 + ε),\n",
    "                       HalfSpace([-1.0, 0.0], 1.0 + ε)])  # x1 = -1\n",
    "    \n",
    "    G42 = HPolyhedron([HalfSpace([0.0, 1.0], 0.0 + ε),\n",
    "                       HalfSpace([1.0, -1.0], 0.0 + ε)])  # x2 = 0\n",
    "    \n",
    "    G43 = HPolyhedron([HalfSpace([1.0, 0.0], 1.0 + ε),\n",
    "                       HalfSpace([-1.0, 0.0], -1.0 + ε)])  # x1 = 1  \n",
    "    \n",
    "    G13 = HPolyhedron([HalfSpace([0.0, 1.0], 1.0 + ε),\n",
    "                       HalfSpace([1.0, -1.0], -1.0 + ε)])  # x2 = 1\n",
    "    \n",
    "    G31 = HPolyhedron([HalfSpace([0.0, 1.0], 0.0 + ε),\n",
    "                       HalfSpace([1.0, -1.0], 0.0 + ε)])  # x2 = 0\n",
    "    \n",
    "    resetmaps = [ConstrainedIdentityMap(2, G12), \n",
    "                 ConstrainedIdentityMap(2, G23),\n",
    "                 ConstrainedIdentityMap(2, G34),\n",
    "                 ConstrainedIdentityMap(2, G42),\n",
    "                 ConstrainedIdentityMap(2, G43),\n",
    "                 ConstrainedIdentityMap(2, G13),\n",
    "                 ConstrainedIdentityMap(2, G31)]\n",
    "\n",
    "    # switching\n",
    "    switchings = [AutonomousSwitching()]\n",
    "\n",
    "    ℋ = HybridSystem(automaton, modes, resetmaps, switchings)\n",
    "\n",
    "    # initial condition in \"off_off\" mode\n",
    "    initial_condition = [(1, X0)]\n",
    "\n",
    "    problem = InitialValueProblem(ℋ, initial_condition)\n",
    "\n",
    "    options = Options(:mode=>\"reach\", :T=>T, :plot_vars=>[1, 2])\n",
    "\n",
    "    return (problem, options)\n",
    "end"
   ]
  },
  {
   "cell_type": "markdown",
   "metadata": {},
   "source": [
    "## Reachability settings"
   ]
  },
  {
   "cell_type": "markdown",
   "metadata": {},
   "source": [
    "We consider an initial set of\n",
    "\n",
    "$$\n",
    "x_1 \\in [1.5, 2.5], x_2 = 1\n",
    "$$\n",
    "and the starting location `off_off`, a time horizon $T=5s$. The suggested time step is $\\delta=0.1s$.\n",
    "\n",
    "The uncertain input is considered to be between $-0.1$ and $0.1$.\n",
    "\n",
    "The set of bad states are all states where $x_2 \\le -0.7$."
   ]
  },
  {
   "cell_type": "code",
   "execution_count": 54,
   "metadata": {},
   "outputs": [],
   "source": [
    "# settings\n",
    "#X0 = Interval(1.5, 2.5) × Singleton([1.0])\n",
    "X0 = Hyperrectangle(low=[1.5, 1.0], high=[2.5, 1.0])\n",
    "# Interval(1.5, 2.5) × Interval(0.99, 1.01)\n",
    "# MethodError: no method matching intersection(::HPolyhedron{Float64}, ::CartesianProduct{Float64,Interval{Float64,IntervalArithmetic.Interval{Float64}},Interval{Float64,IntervalArithmetic.Interval{Float64}}})\n",
    "\n",
    "U = Interval(-0.1, 0.1)\n",
    "T = 5.0\n",
    "\n",
    "TwoTank, options = two_tank(X0=X0, U=U, T=T, ε=0.0);\n",
    "BadStates = HalfSpace([0.0, 1.0], -0.7); # x2 <= -0.7"
   ]
  },
  {
   "cell_type": "markdown",
   "metadata": {},
   "source": [
    "## Results"
   ]
  },
  {
   "cell_type": "code",
   "execution_count": 55,
   "metadata": {},
   "outputs": [],
   "source": [
    "using Plots, LaTeXStrings"
   ]
  },
  {
   "cell_type": "code",
   "execution_count": 56,
   "metadata": {
    "scrolled": true
   },
   "outputs": [
    {
     "name": "stdout",
     "output_type": "stream",
     "text": [
      "  1.293605 seconds (1.81 M allocations: 88.568 MiB, 8.42% gc time)\n"
     ]
    }
   ],
   "source": [
    "@time begin\n",
    "    sol = solve(TwoTank, options, BFFPSV18(:δ=>0.001), LazyDiscretePost())\n",
    "end;"
   ]
  },
  {
   "cell_type": "code",
   "execution_count": 57,
   "metadata": {},
   "outputs": [
    {
     "data": {
      "text/plain": [
       "1"
      ]
     },
     "execution_count": 57,
     "metadata": {},
     "output_type": "execute_result"
    }
   ],
   "source": [
    "length(sol.Xk)"
   ]
  },
  {
   "cell_type": "code",
   "execution_count": 58,
   "metadata": {},
   "outputs": [
    {
     "data": {
      "image/svg+xml": [
       "<?xml version=\"1.0\" encoding=\"utf-8\"?>\n",
       "<svg xmlns=\"http://www.w3.org/2000/svg\" xmlns:xlink=\"http://www.w3.org/1999/xlink\" width=\"600\" height=\"400\" viewBox=\"0 0 2400 1600\">\n",
       "<defs>\n",
       "  <clipPath id=\"clip3900\">\n",
       "    <rect x=\"0\" y=\"0\" width=\"2400\" height=\"1600\"/>\n",
       "  </clipPath>\n",
       "</defs>\n",
       "<polygon clip-path=\"url(#clip3900)\" points=\"\n",
       "0,1600 2400,1600 2400,0 0,0 \n",
       "  \" fill=\"#ffffff\" fill-rule=\"evenodd\" fill-opacity=\"1\"/>\n",
       "<defs>\n",
       "  <clipPath id=\"clip3901\">\n",
       "    <rect x=\"480\" y=\"0\" width=\"1681\" height=\"1600\"/>\n",
       "  </clipPath>\n",
       "</defs>\n",
       "<polygon clip-path=\"url(#clip3900)\" points=\"\n",
       "188.156,1503.47 2321.26,1503.47 2321.26,47.2441 188.156,47.2441 \n",
       "  \" fill=\"#ffffff\" fill-rule=\"evenodd\" fill-opacity=\"1\"/>\n",
       "<defs>\n",
       "  <clipPath id=\"clip3902\">\n",
       "    <rect x=\"188\" y=\"47\" width=\"2134\" height=\"1457\"/>\n",
       "  </clipPath>\n",
       "</defs>\n",
       "<polyline clip-path=\"url(#clip3902)\" style=\"stroke:#000000; stroke-width:2; stroke-opacity:0.1; fill:none\" points=\"\n",
       "  449.763,1503.47 449.763,47.2441 \n",
       "  \"/>\n",
       "<polyline clip-path=\"url(#clip3902)\" style=\"stroke:#000000; stroke-width:2; stroke-opacity:0.1; fill:none\" points=\"\n",
       "  852.236,1503.47 852.236,47.2441 \n",
       "  \"/>\n",
       "<polyline clip-path=\"url(#clip3902)\" style=\"stroke:#000000; stroke-width:2; stroke-opacity:0.1; fill:none\" points=\"\n",
       "  1254.71,1503.47 1254.71,47.2441 \n",
       "  \"/>\n",
       "<polyline clip-path=\"url(#clip3902)\" style=\"stroke:#000000; stroke-width:2; stroke-opacity:0.1; fill:none\" points=\"\n",
       "  1657.18,1503.47 1657.18,47.2441 \n",
       "  \"/>\n",
       "<polyline clip-path=\"url(#clip3902)\" style=\"stroke:#000000; stroke-width:2; stroke-opacity:0.1; fill:none\" points=\"\n",
       "  2059.65,1503.47 2059.65,47.2441 \n",
       "  \"/>\n",
       "<polyline clip-path=\"url(#clip3902)\" style=\"stroke:#000000; stroke-width:2; stroke-opacity:0.1; fill:none\" points=\"\n",
       "  188.156,1462.26 2321.26,1462.26 \n",
       "  \"/>\n",
       "<polyline clip-path=\"url(#clip3902)\" style=\"stroke:#000000; stroke-width:2; stroke-opacity:0.1; fill:none\" points=\"\n",
       "  188.156,1118.81 2321.26,1118.81 \n",
       "  \"/>\n",
       "<polyline clip-path=\"url(#clip3902)\" style=\"stroke:#000000; stroke-width:2; stroke-opacity:0.1; fill:none\" points=\"\n",
       "  188.156,775.359 2321.26,775.359 \n",
       "  \"/>\n",
       "<polyline clip-path=\"url(#clip3902)\" style=\"stroke:#000000; stroke-width:2; stroke-opacity:0.1; fill:none\" points=\"\n",
       "  188.156,431.909 2321.26,431.909 \n",
       "  \"/>\n",
       "<polyline clip-path=\"url(#clip3902)\" style=\"stroke:#000000; stroke-width:2; stroke-opacity:0.1; fill:none\" points=\"\n",
       "  188.156,88.4582 2321.26,88.4582 \n",
       "  \"/>\n",
       "<polyline clip-path=\"url(#clip3900)\" style=\"stroke:#000000; stroke-width:4; stroke-opacity:1; fill:none\" points=\"\n",
       "  188.156,1503.47 2321.26,1503.47 \n",
       "  \"/>\n",
       "<polyline clip-path=\"url(#clip3900)\" style=\"stroke:#000000; stroke-width:4; stroke-opacity:1; fill:none\" points=\"\n",
       "  188.156,1503.47 188.156,47.2441 \n",
       "  \"/>\n",
       "<polyline clip-path=\"url(#clip3900)\" style=\"stroke:#000000; stroke-width:4; stroke-opacity:1; fill:none\" points=\"\n",
       "  449.763,1503.47 449.763,1481.63 \n",
       "  \"/>\n",
       "<polyline clip-path=\"url(#clip3900)\" style=\"stroke:#000000; stroke-width:4; stroke-opacity:1; fill:none\" points=\"\n",
       "  852.236,1503.47 852.236,1481.63 \n",
       "  \"/>\n",
       "<polyline clip-path=\"url(#clip3900)\" style=\"stroke:#000000; stroke-width:4; stroke-opacity:1; fill:none\" points=\"\n",
       "  1254.71,1503.47 1254.71,1481.63 \n",
       "  \"/>\n",
       "<polyline clip-path=\"url(#clip3900)\" style=\"stroke:#000000; stroke-width:4; stroke-opacity:1; fill:none\" points=\"\n",
       "  1657.18,1503.47 1657.18,1481.63 \n",
       "  \"/>\n",
       "<polyline clip-path=\"url(#clip3900)\" style=\"stroke:#000000; stroke-width:4; stroke-opacity:1; fill:none\" points=\"\n",
       "  2059.65,1503.47 2059.65,1481.63 \n",
       "  \"/>\n",
       "<polyline clip-path=\"url(#clip3900)\" style=\"stroke:#000000; stroke-width:4; stroke-opacity:1; fill:none\" points=\"\n",
       "  188.156,1462.26 220.153,1462.26 \n",
       "  \"/>\n",
       "<polyline clip-path=\"url(#clip3900)\" style=\"stroke:#000000; stroke-width:4; stroke-opacity:1; fill:none\" points=\"\n",
       "  188.156,1118.81 220.153,1118.81 \n",
       "  \"/>\n",
       "<polyline clip-path=\"url(#clip3900)\" style=\"stroke:#000000; stroke-width:4; stroke-opacity:1; fill:none\" points=\"\n",
       "  188.156,775.359 220.153,775.359 \n",
       "  \"/>\n",
       "<polyline clip-path=\"url(#clip3900)\" style=\"stroke:#000000; stroke-width:4; stroke-opacity:1; fill:none\" points=\"\n",
       "  188.156,431.909 220.153,431.909 \n",
       "  \"/>\n",
       "<polyline clip-path=\"url(#clip3900)\" style=\"stroke:#000000; stroke-width:4; stroke-opacity:1; fill:none\" points=\"\n",
       "  188.156,88.4582 220.153,88.4582 \n",
       "  \"/>\n",
       "<g clip-path=\"url(#clip3900)\">\n",
       "<text style=\"fill:#000000; fill-opacity:1; font-family:Arial,Helvetica Neue,Helvetica,sans-serif; font-size:48px; text-anchor:middle;\" transform=\"rotate(0, 449.763, 1557.47)\" x=\"449.763\" y=\"1557.47\">1.6</text>\n",
       "</g>\n",
       "<g clip-path=\"url(#clip3900)\">\n",
       "<text style=\"fill:#000000; fill-opacity:1; font-family:Arial,Helvetica Neue,Helvetica,sans-serif; font-size:48px; text-anchor:middle;\" transform=\"rotate(0, 852.236, 1557.47)\" x=\"852.236\" y=\"1557.47\">1.8</text>\n",
       "</g>\n",
       "<g clip-path=\"url(#clip3900)\">\n",
       "<text style=\"fill:#000000; fill-opacity:1; font-family:Arial,Helvetica Neue,Helvetica,sans-serif; font-size:48px; text-anchor:middle;\" transform=\"rotate(0, 1254.71, 1557.47)\" x=\"1254.71\" y=\"1557.47\">2.0</text>\n",
       "</g>\n",
       "<g clip-path=\"url(#clip3900)\">\n",
       "<text style=\"fill:#000000; fill-opacity:1; font-family:Arial,Helvetica Neue,Helvetica,sans-serif; font-size:48px; text-anchor:middle;\" transform=\"rotate(0, 1657.18, 1557.47)\" x=\"1657.18\" y=\"1557.47\">2.2</text>\n",
       "</g>\n",
       "<g clip-path=\"url(#clip3900)\">\n",
       "<text style=\"fill:#000000; fill-opacity:1; font-family:Arial,Helvetica Neue,Helvetica,sans-serif; font-size:48px; text-anchor:middle;\" transform=\"rotate(0, 2059.65, 1557.47)\" x=\"2059.65\" y=\"1557.47\">2.4</text>\n",
       "</g>\n",
       "<g clip-path=\"url(#clip3900)\">\n",
       "<text style=\"fill:#000000; fill-opacity:1; font-family:Arial,Helvetica Neue,Helvetica,sans-serif; font-size:48px; text-anchor:end;\" transform=\"rotate(0, 164.156, 1479.76)\" x=\"164.156\" y=\"1479.76\">1.00</text>\n",
       "</g>\n",
       "<g clip-path=\"url(#clip3900)\">\n",
       "<text style=\"fill:#000000; fill-opacity:1; font-family:Arial,Helvetica Neue,Helvetica,sans-serif; font-size:48px; text-anchor:end;\" transform=\"rotate(0, 164.156, 1136.31)\" x=\"164.156\" y=\"1136.31\">1.25</text>\n",
       "</g>\n",
       "<g clip-path=\"url(#clip3900)\">\n",
       "<text style=\"fill:#000000; fill-opacity:1; font-family:Arial,Helvetica Neue,Helvetica,sans-serif; font-size:48px; text-anchor:end;\" transform=\"rotate(0, 164.156, 792.859)\" x=\"164.156\" y=\"792.859\">1.50</text>\n",
       "</g>\n",
       "<g clip-path=\"url(#clip3900)\">\n",
       "<text style=\"fill:#000000; fill-opacity:1; font-family:Arial,Helvetica Neue,Helvetica,sans-serif; font-size:48px; text-anchor:end;\" transform=\"rotate(0, 164.156, 449.409)\" x=\"164.156\" y=\"449.409\">1.75</text>\n",
       "</g>\n",
       "<g clip-path=\"url(#clip3900)\">\n",
       "<text style=\"fill:#000000; fill-opacity:1; font-family:Arial,Helvetica Neue,Helvetica,sans-serif; font-size:48px; text-anchor:end;\" transform=\"rotate(0, 164.156, 105.958)\" x=\"164.156\" y=\"105.958\">2.00</text>\n",
       "</g>\n",
       "<polygon clip-path=\"url(#clip3902)\" points=\"\n",
       "248.527,1462.26 2260.89,1462.26 248.527,1462.26 248.527,1462.26 \n",
       "  \" fill=\"#ff0000\" fill-rule=\"evenodd\" fill-opacity=\"1\"/>\n",
       "<polyline clip-path=\"url(#clip3902)\" style=\"stroke:#000000; stroke-width:4; stroke-opacity:1; fill:none\" points=\"\n",
       "  248.527,1462.26 2260.89,1462.26 248.527,1462.26 \n",
       "  \"/>\n",
       "</svg>\n"
      ]
     },
     "execution_count": 58,
     "metadata": {},
     "output_type": "execute_result"
    }
   ],
   "source": [
    "#plot(sol, xlab=L\"x_1\", ylab=L\"x_2\")\n",
    "plot(X0, color=\"red\")"
   ]
  },
  {
   "cell_type": "code",
   "execution_count": 12,
   "metadata": {},
   "outputs": [],
   "source": [
    "using Polyhedra, CDDLib"
   ]
  },
  {
   "cell_type": "code",
   "execution_count": 18,
   "metadata": {},
   "outputs": [
    {
     "name": "stdout",
     "output_type": "stream",
     "text": [
      "  0.032559 seconds (2.74 k allocations: 596.500 KiB)\n"
     ]
    }
   ],
   "source": [
    "@time begin\n",
    "    sol = solve(TwoTank, options,\n",
    "                BFFPSV18(:δ=>0.001),\n",
    "                ConcreteDiscretePost())\n",
    "end;"
   ]
  },
  {
   "cell_type": "code",
   "execution_count": null,
   "metadata": {},
   "outputs": [],
   "source": []
  }
 ],
 "metadata": {
  "@webio": {
   "lastCommId": null,
   "lastKernelId": null
  },
  "kernelspec": {
   "display_name": "Julia 1.1.0-rc2",
   "language": "julia",
   "name": "julia-1.1"
  },
  "language_info": {
   "file_extension": ".jl",
   "mimetype": "application/julia",
   "name": "julia",
   "version": "1.1.0"
  }
 },
 "nbformat": 4,
 "nbformat_minor": 2
}
